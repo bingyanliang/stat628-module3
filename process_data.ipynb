{
 "cells": [
  {
   "cell_type": "code",
   "execution_count": 3,
   "metadata": {},
   "outputs": [],
   "source": [
    "import pandas as pd"
   ]
  },
  {
   "cell_type": "code",
   "execution_count": 27,
   "metadata": {},
   "outputs": [],
   "source": [
    "df = pd.read_csv('reviews_in_fl.csv')"
   ]
  },
  {
   "cell_type": "code",
   "execution_count": 28,
   "metadata": {},
   "outputs": [
    {
     "data": {
      "text/plain": [
       "1161545"
      ]
     },
     "execution_count": 28,
     "metadata": {},
     "output_type": "execute_result"
    }
   ],
   "source": [
    "len(df)"
   ]
  },
  {
   "cell_type": "code",
   "execution_count": 29,
   "metadata": {},
   "outputs": [
    {
     "data": {
      "text/html": [
       "<div>\n",
       "<style scoped>\n",
       "    .dataframe tbody tr th:only-of-type {\n",
       "        vertical-align: middle;\n",
       "    }\n",
       "\n",
       "    .dataframe tbody tr th {\n",
       "        vertical-align: top;\n",
       "    }\n",
       "\n",
       "    .dataframe thead th {\n",
       "        text-align: right;\n",
       "    }\n",
       "</style>\n",
       "<table border=\"1\" class=\"dataframe\">\n",
       "  <thead>\n",
       "    <tr style=\"text-align: right;\">\n",
       "      <th></th>\n",
       "      <th>business_id</th>\n",
       "      <th>name</th>\n",
       "      <th>address</th>\n",
       "      <th>city</th>\n",
       "      <th>state</th>\n",
       "      <th>postal_code</th>\n",
       "      <th>latitude</th>\n",
       "      <th>longitude</th>\n",
       "      <th>stars_x</th>\n",
       "      <th>review_count</th>\n",
       "      <th>...</th>\n",
       "      <th>categories</th>\n",
       "      <th>hours</th>\n",
       "      <th>review_id</th>\n",
       "      <th>user_id</th>\n",
       "      <th>stars_y</th>\n",
       "      <th>useful</th>\n",
       "      <th>funny</th>\n",
       "      <th>cool</th>\n",
       "      <th>text</th>\n",
       "      <th>date</th>\n",
       "    </tr>\n",
       "  </thead>\n",
       "  <tbody>\n",
       "    <tr>\n",
       "      <th>0</th>\n",
       "      <td>jaxMSoInw8Poo3XeMJt8lQ</td>\n",
       "      <td>Adams Dental</td>\n",
       "      <td>15 N Missouri Ave</td>\n",
       "      <td>Clearwater</td>\n",
       "      <td>FL</td>\n",
       "      <td>33755.0</td>\n",
       "      <td>27.966235</td>\n",
       "      <td>-82.787412</td>\n",
       "      <td>5.0</td>\n",
       "      <td>10</td>\n",
       "      <td>...</td>\n",
       "      <td>General Dentistry, Dentists, Health &amp; Medical,...</td>\n",
       "      <td>{'Monday': '7:30-15:30', 'Tuesday': '7:30-15:3...</td>\n",
       "      <td>FBXkfsPAHkDjCzYUBnHm-A</td>\n",
       "      <td>ZvmZM7LBzaYbpznpHlTANA</td>\n",
       "      <td>5</td>\n",
       "      <td>0</td>\n",
       "      <td>0</td>\n",
       "      <td>0</td>\n",
       "      <td>Why 5 stars?\\n\\nThis office does it the right ...</td>\n",
       "      <td>2017-09-21 18:47:03</td>\n",
       "    </tr>\n",
       "    <tr>\n",
       "      <th>1</th>\n",
       "      <td>0bPLkL0QhhPO5kt1_EXmNQ</td>\n",
       "      <td>Zio's Italian Market</td>\n",
       "      <td>2575 E Bay Dr</td>\n",
       "      <td>Largo</td>\n",
       "      <td>FL</td>\n",
       "      <td>33771.0</td>\n",
       "      <td>27.916116</td>\n",
       "      <td>-82.760461</td>\n",
       "      <td>4.5</td>\n",
       "      <td>100</td>\n",
       "      <td>...</td>\n",
       "      <td>Food, Delis, Italian, Bakeries, Restaurants</td>\n",
       "      <td>{'Monday': '10:0-18:0', 'Tuesday': '10:0-20:0'...</td>\n",
       "      <td>oTTuahWNWzX_018P6O6_2g</td>\n",
       "      <td>z1Dfj8kz3KCArkXaIyaBIA</td>\n",
       "      <td>1</td>\n",
       "      <td>6</td>\n",
       "      <td>1</td>\n",
       "      <td>0</td>\n",
       "      <td>The worst Chicken Parm. Sandwich I've ever eat...</td>\n",
       "      <td>2014-05-25 21:52:30</td>\n",
       "    </tr>\n",
       "    <tr>\n",
       "      <th>2</th>\n",
       "      <td>0bPLkL0QhhPO5kt1_EXmNQ</td>\n",
       "      <td>Zio's Italian Market</td>\n",
       "      <td>2575 E Bay Dr</td>\n",
       "      <td>Largo</td>\n",
       "      <td>FL</td>\n",
       "      <td>33771.0</td>\n",
       "      <td>27.916116</td>\n",
       "      <td>-82.760461</td>\n",
       "      <td>4.5</td>\n",
       "      <td>100</td>\n",
       "      <td>...</td>\n",
       "      <td>Food, Delis, Italian, Bakeries, Restaurants</td>\n",
       "      <td>{'Monday': '10:0-18:0', 'Tuesday': '10:0-20:0'...</td>\n",
       "      <td>R7DC4sHDcklrk1s1K93FDA</td>\n",
       "      <td>HvgKiuV36e9SzNqeA5zOfA</td>\n",
       "      <td>4</td>\n",
       "      <td>0</td>\n",
       "      <td>0</td>\n",
       "      <td>0</td>\n",
       "      <td>Zio's, previously known as Cesarina's is a lar...</td>\n",
       "      <td>2018-07-26 16:25:04</td>\n",
       "    </tr>\n",
       "    <tr>\n",
       "      <th>3</th>\n",
       "      <td>0bPLkL0QhhPO5kt1_EXmNQ</td>\n",
       "      <td>Zio's Italian Market</td>\n",
       "      <td>2575 E Bay Dr</td>\n",
       "      <td>Largo</td>\n",
       "      <td>FL</td>\n",
       "      <td>33771.0</td>\n",
       "      <td>27.916116</td>\n",
       "      <td>-82.760461</td>\n",
       "      <td>4.5</td>\n",
       "      <td>100</td>\n",
       "      <td>...</td>\n",
       "      <td>Food, Delis, Italian, Bakeries, Restaurants</td>\n",
       "      <td>{'Monday': '10:0-18:0', 'Tuesday': '10:0-20:0'...</td>\n",
       "      <td>8kDLAf-muASQfs5zDXpiyw</td>\n",
       "      <td>7BhiY0D84Lj04kjEWn5fIQ</td>\n",
       "      <td>5</td>\n",
       "      <td>0</td>\n",
       "      <td>0</td>\n",
       "      <td>0</td>\n",
       "      <td>As an update to my previous review, we had tri...</td>\n",
       "      <td>2018-04-28 00:32:12</td>\n",
       "    </tr>\n",
       "    <tr>\n",
       "      <th>4</th>\n",
       "      <td>0bPLkL0QhhPO5kt1_EXmNQ</td>\n",
       "      <td>Zio's Italian Market</td>\n",
       "      <td>2575 E Bay Dr</td>\n",
       "      <td>Largo</td>\n",
       "      <td>FL</td>\n",
       "      <td>33771.0</td>\n",
       "      <td>27.916116</td>\n",
       "      <td>-82.760461</td>\n",
       "      <td>4.5</td>\n",
       "      <td>100</td>\n",
       "      <td>...</td>\n",
       "      <td>Food, Delis, Italian, Bakeries, Restaurants</td>\n",
       "      <td>{'Monday': '10:0-18:0', 'Tuesday': '10:0-20:0'...</td>\n",
       "      <td>KupYGAYqAKVLP9cspQ-9TQ</td>\n",
       "      <td>0EjWviHaYwdaMaD8VBOHWA</td>\n",
       "      <td>5</td>\n",
       "      <td>1</td>\n",
       "      <td>1</td>\n",
       "      <td>0</td>\n",
       "      <td>The little deli belongs in little Italy. Wonde...</td>\n",
       "      <td>2015-08-30 18:56:08</td>\n",
       "    </tr>\n",
       "  </tbody>\n",
       "</table>\n",
       "<p>5 rows × 22 columns</p>\n",
       "</div>"
      ],
      "text/plain": [
       "              business_id                  name            address  \\\n",
       "0  jaxMSoInw8Poo3XeMJt8lQ          Adams Dental  15 N Missouri Ave   \n",
       "1  0bPLkL0QhhPO5kt1_EXmNQ  Zio's Italian Market      2575 E Bay Dr   \n",
       "2  0bPLkL0QhhPO5kt1_EXmNQ  Zio's Italian Market      2575 E Bay Dr   \n",
       "3  0bPLkL0QhhPO5kt1_EXmNQ  Zio's Italian Market      2575 E Bay Dr   \n",
       "4  0bPLkL0QhhPO5kt1_EXmNQ  Zio's Italian Market      2575 E Bay Dr   \n",
       "\n",
       "         city state  postal_code   latitude  longitude  stars_x  review_count  \\\n",
       "0  Clearwater    FL      33755.0  27.966235 -82.787412      5.0            10   \n",
       "1       Largo    FL      33771.0  27.916116 -82.760461      4.5           100   \n",
       "2       Largo    FL      33771.0  27.916116 -82.760461      4.5           100   \n",
       "3       Largo    FL      33771.0  27.916116 -82.760461      4.5           100   \n",
       "4       Largo    FL      33771.0  27.916116 -82.760461      4.5           100   \n",
       "\n",
       "   ...                                         categories  \\\n",
       "0  ...  General Dentistry, Dentists, Health & Medical,...   \n",
       "1  ...        Food, Delis, Italian, Bakeries, Restaurants   \n",
       "2  ...        Food, Delis, Italian, Bakeries, Restaurants   \n",
       "3  ...        Food, Delis, Italian, Bakeries, Restaurants   \n",
       "4  ...        Food, Delis, Italian, Bakeries, Restaurants   \n",
       "\n",
       "                                               hours               review_id  \\\n",
       "0  {'Monday': '7:30-15:30', 'Tuesday': '7:30-15:3...  FBXkfsPAHkDjCzYUBnHm-A   \n",
       "1  {'Monday': '10:0-18:0', 'Tuesday': '10:0-20:0'...  oTTuahWNWzX_018P6O6_2g   \n",
       "2  {'Monday': '10:0-18:0', 'Tuesday': '10:0-20:0'...  R7DC4sHDcklrk1s1K93FDA   \n",
       "3  {'Monday': '10:0-18:0', 'Tuesday': '10:0-20:0'...  8kDLAf-muASQfs5zDXpiyw   \n",
       "4  {'Monday': '10:0-18:0', 'Tuesday': '10:0-20:0'...  KupYGAYqAKVLP9cspQ-9TQ   \n",
       "\n",
       "                  user_id stars_y useful  funny  cool  \\\n",
       "0  ZvmZM7LBzaYbpznpHlTANA       5      0      0     0   \n",
       "1  z1Dfj8kz3KCArkXaIyaBIA       1      6      1     0   \n",
       "2  HvgKiuV36e9SzNqeA5zOfA       4      0      0     0   \n",
       "3  7BhiY0D84Lj04kjEWn5fIQ       5      0      0     0   \n",
       "4  0EjWviHaYwdaMaD8VBOHWA       5      1      1     0   \n",
       "\n",
       "                                                text                 date  \n",
       "0  Why 5 stars?\\n\\nThis office does it the right ...  2017-09-21 18:47:03  \n",
       "1  The worst Chicken Parm. Sandwich I've ever eat...  2014-05-25 21:52:30  \n",
       "2  Zio's, previously known as Cesarina's is a lar...  2018-07-26 16:25:04  \n",
       "3  As an update to my previous review, we had tri...  2018-04-28 00:32:12  \n",
       "4  The little deli belongs in little Italy. Wonde...  2015-08-30 18:56:08  \n",
       "\n",
       "[5 rows x 22 columns]"
      ]
     },
     "execution_count": 29,
     "metadata": {},
     "output_type": "execute_result"
    }
   ],
   "source": [
    "df.head()"
   ]
  },
  {
   "cell_type": "code",
   "execution_count": 35,
   "metadata": {},
   "outputs": [
    {
     "name": "stdout",
     "output_type": "stream",
     "text": [
      "Unique cities: ['Clearwater' 'Largo' 'St. Petersburg' 'Tampa' 'Wesley Chapel'\n",
      " 'Treasure Island' 'Tarpon Springs' 'Land O Lakes' 'Riverview'\n",
      " 'Saint Petersburg' 'Madeira Beach' 'New Port Richey' 'Brandon' 'TAMPA'\n",
      " 'Terra Ceia' 'Odessa' 'St. Pete Beach' 'Spring Hill' 'Holiday' 'Oldsmar'\n",
      " 'St Petersburg' 'Hernando Beach' 'Lutz' 'Plant City' 'Spring HIll'\n",
      " 'Ruskin' 'Valrico' 'Trinity' 'Bellair' 'Port Richey' 'Dunedin' 'Seminole'\n",
      " 'Clearwater Beach' 'St Pete Beach' 'Safety Harbor' 'Sun City Center'\n",
      " 'Pinellas Park' 'Apollo Beach' 'Lithia' 'Palm Harbor' 'Belleair'\n",
      " 'North Redington Beach' \"Land O' Lakes\" 'Greater Northdale' 'Hudson'\n",
      " 'Dover' 'Seffner' 'Thonotosassa' 'Tampa Bay' 'Gulfport' 'Zephyrhills'\n",
      " 'Land o lakes' 'Saint Pete Beach' 'Redington Shores' 'Wimauma'\n",
      " 'Treasure Is' 'Temple Terrace' 'NEW PORT RICHEY' 'Hillsborough County'\n",
      " 'Ybor City' 'Indian Shores' 'South Pasadena' 'Indian Rocks Beach'\n",
      " 'Dade City' 'lutz' 'Westchase' 'Palmetto' 'clearwater' 'Carrollwood'\n",
      " 'Belleair Bluffs' 'Mulberry' \"Land O'Lakes\" \"Town 'n' Country\"\n",
      " 'Pass-a-Grille' 'Gibsonton' 'Redingtn Shor' 'TWN N CNTRY' 'Temple Terr'\n",
      " 'Petersburg' 'Kenneth City' 'East Lake' 'Masaryktown' 'Sun City'\n",
      " 'Twn N Cntry' 'New Prt Rchy' 'Balm' 'Brooksville' 'Springhill'\n",
      " 'Pinecrest West Park' 'Pass-a-Grille Beach' 'Central Tampa'\n",
      " 'Tierra Verde' 'saint petersburg' 'Ozona' 'Saintt Petersburg'\n",
      " 'Southwest Tampa' 'St. Pete' '\\u200bLargo' 'Wyndlake Condominium'\n",
      " 'New Pt Richey' 'Ste C' 'S Pasadena' 'riverview' 'Town n Country'\n",
      " 'VALRICO' 'San Antonio' 'East Tampa' 'St Pete' 'Saint Petersburg,'\n",
      " 'Citrus Park' 'Tampa - North' 'Wesley chapel' 'Clearwater,'\n",
      " 'North Redington Bch' 'Palm harbor' 'Thonosassa' 'Indian Rocks Beach. '\n",
      " 'land o lakes' 'Bradenton' 'NEW PRT RCHY' 'CLEARWATER BEACH' 'CLEARWATER'\n",
      " 'Zephryhills' 'largo' 'Palm Harbor, FL' 'Belleair Blf' 'Kenneth'\n",
      " 'Tarpon springs' 'Shady Hills' 'Land-O-Lakes' 'Bayonet Point'\n",
      " 'St.Petersburg' 'Tampa Terrace' '\\u200bLithia' 'Claerwater' 'LARGO'\n",
      " 'Tampa Florida' 'Saint Petersburg Beach' 'Pinellas park' 'RIVERVIEW'\n",
      " 'St Petersberg' 'Belleair Beach' 'Safety  Harbor' 'SPRINGHILL' 'Pasadena'\n",
      " 'ST. PETE BEACH' 'Hillsborough' 'tampa' 'TARPON SPRINGS' 'HUdson'\n",
      " 'Dunedin ' 'St Pete beach' 'N Redington Bch' 'chicago' 'Redington Beach'\n",
      " 'Pinellas' 'Bradenton Beach' 'SEMINOLE' 'River View' 'DUNEDIN' 'Lutz fl'\n",
      " 'Crystal Beach' 'Mango' 'Largo (Walsingham)' 'Crystal Springs' 'wimauma'\n",
      " 'Tampa - South' 'ST. PETERSBURG' 'New Orleans' 'Sarasota' 'N Redngtn Bch'\n",
      " 'Boulevard' 'Belleair Blufs' 'Dunnellon' 'Tampa Palms' 'Land o Lakes'\n",
      " 'Palm harbor ' 'Greater Carrollwood' 'Forest Hills' 'BRANDON'\n",
      " 'Town N Country' 'Tampla' 'South Tampa' 'LITHIA' 'Lakeland' 'ClearWater'\n",
      " 'Redingtn Shores' \"Land o' Lakes,\" 'University Park' 'St.Pete Beach'\n",
      " 'SAINT PETERSBURG' 'Wesley Chapel ' 'St Petersurg' 'Safety Harbor,'\n",
      " 'wesley chapel' 'Wesley Ccapel' 'Elfers' 'Tampa ' 'Madiera Beach'\n",
      " 'Riverview Fl' 'TRINITY' 'St. Leo' 'New Tampa' 'PINELLAS PARK'\n",
      " 'Tierre Verde' \"Land O'lakes\" 'spring hill' 'Macdill Afb'\n",
      " 'St. Petersberg' 'Tampa,' 'Saint Leo' 'Tampa,Fl'\n",
      " 'Clearwater/ Countryside' 'S.Pasadena' 'Redington Shore' 'Pasco'\n",
      " 'Hernando Bch' 'Wesley Chapel  FL' 'MacDill AFB' 'Key Largo' 'TAMPA AP'\n",
      " 'Safety Hatbor' 'Apopka' \"Town 'N' Country\" 'Apollo beach' 'TEMPLE TERR']\n"
     ]
    }
   ],
   "source": [
    "cities = df['city'].unique()\n",
    "print(f\"Unique cities: {cities}\")"
   ]
  },
  {
   "cell_type": "code",
   "execution_count": 71,
   "metadata": {},
   "outputs": [],
   "source": [
    "cities_of_interest = ['Balm', 'Brandon', 'Dover', 'Durant', 'Gibsonton', 'Lithia', 'Lutz', 'Mango', 'Odessa', 'Plant City', 'Riverview'\n",
    "                      'Ruskin\tHillsborough County', 'Sun City Center', 'Ruskin', 'Apollo Beach', 'Seffner', 'Sun City', 'Sydney', 'Thonotosassa', \n",
    "                      'Valrico', 'Wimauma', 'Tampa', 'Ybor City', 'Davis Island', 'Macdill Afb', \"Town 'N' Country\", 'Carrollwood', 'Clair Mel City',\n",
    "                      'Northdale', 'Northdale', 'Westchase', 'Palma Ceia', 'Temple Terrace', 'Tampa Palms', 'Falkenburg Branch']\n",
    "\n",
    "review = df[df['city'].isin(cities_of_interest)]"
   ]
  },
  {
   "cell_type": "code",
   "execution_count": 58,
   "metadata": {},
   "outputs": [],
   "source": [
    "review.to_csv('reviews_in_HillsboroughCounty.csv', index=False)"
   ]
  },
  {
   "cell_type": "code",
   "execution_count": 69,
   "metadata": {},
   "outputs": [],
   "source": [
    "df2 = pd.read_csv('business_data_fl.csv')\n",
    "bus = df2[df2['city'].isin(cities_of_interest)]"
   ]
  },
  {
   "cell_type": "code",
   "execution_count": 70,
   "metadata": {},
   "outputs": [],
   "source": [
    "bus.to_csv('business_data_HillsboroughCounty.csv', index=False)"
   ]
  },
  {
   "cell_type": "code",
   "execution_count": 75,
   "metadata": {},
   "outputs": [
    {
     "name": "stdout",
     "output_type": "stream",
     "text": [
      "<class 'pandas.core.frame.DataFrame'>\n",
      "Int64Index: 12119 entries, 6 to 26328\n",
      "Data columns (total 14 columns):\n",
      " #   Column        Non-Null Count  Dtype  \n",
      "---  ------        --------------  -----  \n",
      " 0   business_id   12119 non-null  object \n",
      " 1   name          12119 non-null  object \n",
      " 2   address       11705 non-null  object \n",
      " 3   city          12119 non-null  object \n",
      " 4   state         12119 non-null  object \n",
      " 5   postal_code   12116 non-null  float64\n",
      " 6   latitude      12119 non-null  float64\n",
      " 7   longitude     12119 non-null  float64\n",
      " 8   stars         12119 non-null  float64\n",
      " 9   review_count  12119 non-null  int64  \n",
      " 10  is_open       12119 non-null  int64  \n",
      " 11  attributes    10917 non-null  object \n",
      " 12  categories    12110 non-null  object \n",
      " 13  hours         10600 non-null  object \n",
      "dtypes: float64(4), int64(2), object(8)\n",
      "memory usage: 1.4+ MB\n"
     ]
    }
   ],
   "source": [
    "bus.info()"
   ]
  },
  {
   "cell_type": "code",
   "execution_count": 76,
   "metadata": {},
   "outputs": [
    {
     "name": "stdout",
     "output_type": "stream",
     "text": [
      "<class 'pandas.core.frame.DataFrame'>\n",
      "Int64Index: 559189 entries, 35 to 1161540\n",
      "Data columns (total 22 columns):\n",
      " #   Column        Non-Null Count   Dtype  \n",
      "---  ------        --------------   -----  \n",
      " 0   business_id   559189 non-null  object \n",
      " 1   name          559189 non-null  object \n",
      " 2   address       553005 non-null  object \n",
      " 3   city          559189 non-null  object \n",
      " 4   state         559189 non-null  object \n",
      " 5   postal_code   559168 non-null  float64\n",
      " 6   latitude      559189 non-null  float64\n",
      " 7   longitude     559189 non-null  float64\n",
      " 8   stars_x       559189 non-null  float64\n",
      " 9   review_count  559189 non-null  int64  \n",
      " 10  is_open       559189 non-null  int64  \n",
      " 11  attributes    541468 non-null  object \n",
      " 12  categories    559134 non-null  object \n",
      " 13  hours         532832 non-null  object \n",
      " 14  review_id     559189 non-null  object \n",
      " 15  user_id       559189 non-null  object \n",
      " 16  stars_y       559189 non-null  int64  \n",
      " 17  useful        559189 non-null  int64  \n",
      " 18  funny         559189 non-null  int64  \n",
      " 19  cool          559189 non-null  int64  \n",
      " 20  text          559189 non-null  object \n",
      " 21  date          559189 non-null  object \n",
      "dtypes: float64(4), int64(6), object(12)\n",
      "memory usage: 98.1+ MB\n"
     ]
    }
   ],
   "source": [
    "review.info()"
   ]
  },
  {
   "cell_type": "code",
   "execution_count": 79,
   "metadata": {},
   "outputs": [
    {
     "data": {
      "text/plain": [
       "1519"
      ]
     },
     "execution_count": 79,
     "metadata": {},
     "output_type": "execute_result"
    }
   ],
   "source": [
    "null_hours_df = bus[bus['hours'].isnull()]\n",
    "len(null_hours_df)"
   ]
  },
  {
   "cell_type": "code",
   "execution_count": 80,
   "metadata": {},
   "outputs": [
    {
     "data": {
      "text/html": [
       "<div>\n",
       "<style scoped>\n",
       "    .dataframe tbody tr th:only-of-type {\n",
       "        vertical-align: middle;\n",
       "    }\n",
       "\n",
       "    .dataframe tbody tr th {\n",
       "        vertical-align: top;\n",
       "    }\n",
       "\n",
       "    .dataframe thead th {\n",
       "        text-align: right;\n",
       "    }\n",
       "</style>\n",
       "<table border=\"1\" class=\"dataframe\">\n",
       "  <thead>\n",
       "    <tr style=\"text-align: right;\">\n",
       "      <th></th>\n",
       "      <th>business_id</th>\n",
       "      <th>name</th>\n",
       "      <th>address</th>\n",
       "      <th>city</th>\n",
       "      <th>state</th>\n",
       "      <th>postal_code</th>\n",
       "      <th>latitude</th>\n",
       "      <th>longitude</th>\n",
       "      <th>stars</th>\n",
       "      <th>review_count</th>\n",
       "      <th>is_open</th>\n",
       "      <th>attributes</th>\n",
       "      <th>categories</th>\n",
       "      <th>hours</th>\n",
       "    </tr>\n",
       "  </thead>\n",
       "  <tbody>\n",
       "    <tr>\n",
       "      <th>6</th>\n",
       "      <td>0qNpTGTcqPwOLi2hADx4Xw</td>\n",
       "      <td>Charlie's Market</td>\n",
       "      <td>2815 E Sligh Ave</td>\n",
       "      <td>Tampa</td>\n",
       "      <td>FL</td>\n",
       "      <td>33610.0</td>\n",
       "      <td>28.010360</td>\n",
       "      <td>-82.430042</td>\n",
       "      <td>3.0</td>\n",
       "      <td>9</td>\n",
       "      <td>1</td>\n",
       "      <td>{'BusinessParking': \"{'garage': False, 'street...</td>\n",
       "      <td>Food, Grocery, Convenience Stores</td>\n",
       "      <td>NaN</td>\n",
       "    </tr>\n",
       "    <tr>\n",
       "      <th>9</th>\n",
       "      <td>mjWvAkNqoA6Y5P03sDSzfA</td>\n",
       "      <td>Educational Outfitters</td>\n",
       "      <td>3904 W Hillsborough Ave, Ste D</td>\n",
       "      <td>Tampa</td>\n",
       "      <td>FL</td>\n",
       "      <td>33614.0</td>\n",
       "      <td>27.995450</td>\n",
       "      <td>-82.508119</td>\n",
       "      <td>2.0</td>\n",
       "      <td>10</td>\n",
       "      <td>1</td>\n",
       "      <td>{'BusinessParking': \"{'garage': False, 'street...</td>\n",
       "      <td>Uniforms, Shopping</td>\n",
       "      <td>NaN</td>\n",
       "    </tr>\n",
       "    <tr>\n",
       "      <th>46</th>\n",
       "      <td>Q2sKrIaEZsFN7VNjkibyfQ</td>\n",
       "      <td>Accurate Window &amp; Screen</td>\n",
       "      <td>5700 N Nebraska Ave</td>\n",
       "      <td>Tampa</td>\n",
       "      <td>FL</td>\n",
       "      <td>33604.0</td>\n",
       "      <td>27.998957</td>\n",
       "      <td>-82.451434</td>\n",
       "      <td>3.5</td>\n",
       "      <td>7</td>\n",
       "      <td>1</td>\n",
       "      <td>NaN</td>\n",
       "      <td>Home Services, Windows Installation</td>\n",
       "      <td>NaN</td>\n",
       "    </tr>\n",
       "    <tr>\n",
       "      <th>62</th>\n",
       "      <td>sUQ-OfJYSNfz-cimEjoaXQ</td>\n",
       "      <td>Soho Oasis Cafe</td>\n",
       "      <td>410 S Howard Ave</td>\n",
       "      <td>Tampa</td>\n",
       "      <td>FL</td>\n",
       "      <td>33606.0</td>\n",
       "      <td>27.940206</td>\n",
       "      <td>-82.482884</td>\n",
       "      <td>3.5</td>\n",
       "      <td>7</td>\n",
       "      <td>0</td>\n",
       "      <td>{'RestaurantsAttire': \"'casual'\", 'NoiseLevel'...</td>\n",
       "      <td>Restaurants, Middle Eastern</td>\n",
       "      <td>NaN</td>\n",
       "    </tr>\n",
       "    <tr>\n",
       "      <th>65</th>\n",
       "      <td>z9wCTHYI2VZy9YIblwSsgg</td>\n",
       "      <td>The Silo Eatery Coffee Bakery</td>\n",
       "      <td>9036 Brittany Way, Bldg 18</td>\n",
       "      <td>Tampa</td>\n",
       "      <td>FL</td>\n",
       "      <td>33619.0</td>\n",
       "      <td>27.946496</td>\n",
       "      <td>-82.355563</td>\n",
       "      <td>4.0</td>\n",
       "      <td>5</td>\n",
       "      <td>0</td>\n",
       "      <td>{'RestaurantsDelivery': 'False', 'Ambience': \"...</td>\n",
       "      <td>Coffee &amp; Tea, Restaurants, Food, Cafes, Bakeries</td>\n",
       "      <td>NaN</td>\n",
       "    </tr>\n",
       "  </tbody>\n",
       "</table>\n",
       "</div>"
      ],
      "text/plain": [
       "               business_id                           name  \\\n",
       "6   0qNpTGTcqPwOLi2hADx4Xw               Charlie's Market   \n",
       "9   mjWvAkNqoA6Y5P03sDSzfA         Educational Outfitters   \n",
       "46  Q2sKrIaEZsFN7VNjkibyfQ       Accurate Window & Screen   \n",
       "62  sUQ-OfJYSNfz-cimEjoaXQ                Soho Oasis Cafe   \n",
       "65  z9wCTHYI2VZy9YIblwSsgg  The Silo Eatery Coffee Bakery   \n",
       "\n",
       "                           address   city state  postal_code   latitude  \\\n",
       "6                 2815 E Sligh Ave  Tampa    FL      33610.0  28.010360   \n",
       "9   3904 W Hillsborough Ave, Ste D  Tampa    FL      33614.0  27.995450   \n",
       "46             5700 N Nebraska Ave  Tampa    FL      33604.0  27.998957   \n",
       "62                410 S Howard Ave  Tampa    FL      33606.0  27.940206   \n",
       "65      9036 Brittany Way, Bldg 18  Tampa    FL      33619.0  27.946496   \n",
       "\n",
       "    longitude  stars  review_count  is_open  \\\n",
       "6  -82.430042    3.0             9        1   \n",
       "9  -82.508119    2.0            10        1   \n",
       "46 -82.451434    3.5             7        1   \n",
       "62 -82.482884    3.5             7        0   \n",
       "65 -82.355563    4.0             5        0   \n",
       "\n",
       "                                           attributes  \\\n",
       "6   {'BusinessParking': \"{'garage': False, 'street...   \n",
       "9   {'BusinessParking': \"{'garage': False, 'street...   \n",
       "46                                                NaN   \n",
       "62  {'RestaurantsAttire': \"'casual'\", 'NoiseLevel'...   \n",
       "65  {'RestaurantsDelivery': 'False', 'Ambience': \"...   \n",
       "\n",
       "                                          categories hours  \n",
       "6                  Food, Grocery, Convenience Stores   NaN  \n",
       "9                                 Uniforms, Shopping   NaN  \n",
       "46               Home Services, Windows Installation   NaN  \n",
       "62                       Restaurants, Middle Eastern   NaN  \n",
       "65  Coffee & Tea, Restaurants, Food, Cafes, Bakeries   NaN  "
      ]
     },
     "execution_count": 80,
     "metadata": {},
     "output_type": "execute_result"
    }
   ],
   "source": [
    "null_hours_df.head()"
   ]
  },
  {
   "cell_type": "code",
   "execution_count": 82,
   "metadata": {},
   "outputs": [
    {
     "data": {
      "text/plain": [
       "9831"
      ]
     },
     "execution_count": 82,
     "metadata": {},
     "output_type": "execute_result"
    }
   ],
   "source": [
    "open_bus = bus[bus['is_open'] == 1]\n",
    "len(open_bus)"
   ]
  },
  {
   "cell_type": "code",
   "execution_count": 87,
   "metadata": {},
   "outputs": [
    {
     "data": {
      "text/plain": [
       "4960"
      ]
     },
     "execution_count": 87,
     "metadata": {},
     "output_type": "execute_result"
    }
   ],
   "source": [
    "bus = df2[df2['city'].isin(cities_of_interest)].copy()\n",
    "bus.loc[:, 'categories'] = bus['categories'].str.lower()\n",
    "restaurant_bus = bus[bus['categories'].str.contains('restaurants|food', na=False)]\n",
    "\n",
    "len(restaurant_bus)"
   ]
  },
  {
   "cell_type": "code",
   "execution_count": 89,
   "metadata": {},
   "outputs": [],
   "source": [
    "restaurant_bus.to_csv('restaurant_data_Hills.csv', index=False)"
   ]
  }
 ],
 "metadata": {
  "kernelspec": {
   "display_name": "base",
   "language": "python",
   "name": "python3"
  },
  "language_info": {
   "codemirror_mode": {
    "name": "ipython",
    "version": 3
   },
   "file_extension": ".py",
   "mimetype": "text/x-python",
   "name": "python",
   "nbconvert_exporter": "python",
   "pygments_lexer": "ipython3",
   "version": "3.9.13"
  }
 },
 "nbformat": 4,
 "nbformat_minor": 2
}
