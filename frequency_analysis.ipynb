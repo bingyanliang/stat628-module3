{
 "cells": [
  {
   "cell_type": "code",
   "execution_count": 10,
   "metadata": {},
   "outputs": [],
   "source": [
    "import pandas as pd"
   ]
  },
  {
   "cell_type": "code",
   "execution_count": 11,
   "metadata": {},
   "outputs": [
    {
     "name": "stderr",
     "output_type": "stream",
     "text": [
      "/tmp/ipykernel_813/762684079.py:8: MarkupResemblesLocatorWarning: The input looks more like a filename than markup. You may want to open this file and pass the filehandle into Beautiful Soup.\n",
      "  soup = BeautifulSoup(html, \"html.parser\")\n"
     ]
    }
   ],
   "source": [
    "df = pd.read_csv('data/Tampa_mexican_restaurants.csv')\n",
    "df = df.drop(columns=['state', 'latitude', 'longitude','address'])\n",
    "\n",
    "#remove html\n",
    "from bs4 import BeautifulSoup\n",
    "\n",
    "def remove_html_tags(html):\n",
    "    soup = BeautifulSoup(html, \"html.parser\")\n",
    "    return soup.get_text()\n",
    "\n",
    "df.loc[:, 'cleaned_text'] = df['text'].apply(remove_html_tags)\n",
    "\n",
    "# remove punctuation\n",
    "import re\n",
    "\n",
    "def remove_punctuation(text):\n",
    "    return re.sub(r'[^\\w\\s]', '', text)\n",
    "\n",
    "df.loc[:, 'cleaned_text'] = df['text'].apply(remove_punctuation)\n",
    "\n",
    "# remove phone numbers\n",
    "def remove_phone_numbers(text):\n",
    "    pattern = r'\\b\\d{3}[-.\\s]?\\d{3}[-.\\s]?\\d{4}\\b'\n",
    "    return re.sub(pattern, '', text)\n",
    "\n",
    "df.loc[:, 'cleaned_text'] = df['text'].apply(remove_punctuation)"
   ]
  },
  {
   "cell_type": "code",
   "execution_count": 13,
   "metadata": {},
   "outputs": [],
   "source": [
    "business_review_counts = df['business_id'].value_counts()\n",
    "\n",
    "# only leave restaurants with more than 100 reviews\n",
    "business_ids_with_100plus_reviews = business_review_counts[business_review_counts > 100].index\n",
    "\n",
    "filtered_df = df[df['business_id'].isin(business_ids_with_100plus_reviews)]"
   ]
  },
  {
   "cell_type": "code",
   "execution_count": 14,
   "metadata": {},
   "outputs": [],
   "source": [
    "filtered_df.loc[:, 'text'] = filtered_df['text'].str.lower()"
   ]
  },
  {
   "cell_type": "code",
   "execution_count": 15,
   "metadata": {},
   "outputs": [
    {
     "name": "stderr",
     "output_type": "stream",
     "text": [
      "[nltk_data] Downloading package stopwords to\n",
      "[nltk_data]     /home/codespace/nltk_data...\n",
      "[nltk_data]   Package stopwords is already up-to-date!\n",
      "/tmp/ipykernel_813/1191511740.py:37: SettingWithCopyWarning: \n",
      "A value is trying to be set on a copy of a slice from a DataFrame.\n",
      "Try using .loc[row_indexer,col_indexer] = value instead\n",
      "\n",
      "See the caveats in the documentation: https://pandas.pydata.org/pandas-docs/stable/user_guide/indexing.html#returning-a-view-versus-a-copy\n",
      "  filtered_df['token'] = filtered_df['cleaned_text'].apply(tokenize_and_lemmatize)\n",
      "/tmp/ipykernel_813/1191511740.py:38: SettingWithCopyWarning: \n",
      "A value is trying to be set on a copy of a slice from a DataFrame.\n",
      "Try using .loc[row_indexer,col_indexer] = value instead\n",
      "\n",
      "See the caveats in the documentation: https://pandas.pydata.org/pandas-docs/stable/user_guide/indexing.html#returning-a-view-versus-a-copy\n",
      "  filtered_df['filtered_token'] = filtered_df['token'].apply(remove_stopwords)\n"
     ]
    }
   ],
   "source": [
    "import spacy\n",
    "from collections import Counter\n",
    "import nltk\n",
    "from nltk.corpus import stopwords\n",
    "\n",
    "nltk.download('stopwords')\n",
    "\n",
    "stop_words = set(stopwords.words('english'))\n",
    "\n",
    "nlp = spacy.load(\"en_core_web_sm\")\n",
    "\n",
    "def tokenize_and_lemmatize(text):\n",
    "    doc = nlp(text)\n",
    "    tokens = [token.lemma_.lower() for token in doc if not token.is_punct]\n",
    "    return tokens\n",
    "\n",
    "def remove_stopwords(tokens):\n",
    "    return [token for token in tokens if token not in stop_words]\n",
    "\n",
    "def create_ngrams(token_list, nb_elements):\n",
    "    ngrams = zip(*[token_list[index_token:] for index_token in range(nb_elements)])\n",
    "    return [\" \".join(ngram).strip() for ngram in ngrams]\n",
    "\n",
    "def frequent_words(list_words, ngrams_number=1, number_top_words=10):\n",
    "    frequent = []\n",
    "    if ngrams_number == 1:\n",
    "        pass\n",
    "    elif ngrams_number >= 2:\n",
    "        list_words = create_ngrams(list_words, ngrams_number)\n",
    "    else:\n",
    "        raise ValueError(\"number of n-grams should be >= 1\")\n",
    "    counter = Counter(list_words)\n",
    "    frequent = counter.most_common(number_top_words)\n",
    "    return frequent\n",
    "\n",
    "# Apply tokenization, lemmatization, and stopword removal to the 'text' column\n",
    "filtered_df['token'] = filtered_df['cleaned_text'].apply(tokenize_and_lemmatize)\n",
    "filtered_df['filtered_token'] = filtered_df['token'].apply(remove_stopwords)"
   ]
  },
  {
   "cell_type": "code",
   "execution_count": 16,
   "metadata": {},
   "outputs": [
    {
     "name": "stdout",
     "output_type": "stream",
     "text": [
      "mexican food:3232\n",
      "food:3035\n",
      "good:2312\n",
      "ca nt:2037\n",
      "come back:1917\n",
      "go back:1906\n",
      "order:1826\n",
      "service:1624\n",
      "chip salsa:1580\n",
      "taco:1550\n"
     ]
    }
   ],
   "source": [
    "# Get the most frequent bigrams (2-grams)\n",
    "most_frequent_bigrams = frequent_words(filtered_df['filtered_token'].explode().dropna(), ngrams_number=2, number_top_words=10)\n",
    "\n",
    "for bigram, count in most_frequent_bigrams:\n",
    "    if bigram:\n",
    "        print(f\"{bigram}:{count}\")"
   ]
  },
  {
   "cell_type": "code",
   "execution_count": 18,
   "metadata": {},
   "outputs": [
    {
     "name": "stdout",
     "output_type": "stream",
     "text": [
      "good mexican food:571\n",
      "ca nt wait:558\n",
      "authentic mexican food:555\n",
      "definitely come back:355\n",
      "mexican food:309\n",
      "ca nt:275\n",
      "food good:260\n",
      "chip salsa:243\n",
      "definitely go back:239\n",
      "nt wait go:229\n"
     ]
    }
   ],
   "source": [
    "most_frequent_bigrams = frequent_words(filtered_df['filtered_token'].explode().dropna(), ngrams_number=3, number_top_words=10)\n",
    "\n",
    "for bigram, count in most_frequent_bigrams:\n",
    "    if bigram:\n",
    "        print(f\"{bigram}:{count}\")"
   ]
  },
  {
   "cell_type": "code",
   "execution_count": null,
   "metadata": {},
   "outputs": [],
   "source": []
  }
 ],
 "metadata": {
  "kernelspec": {
   "display_name": "Python 3 (ipykernel)",
   "language": "python",
   "name": "python3"
  },
  "language_info": {
   "codemirror_mode": {
    "name": "ipython",
    "version": 3
   },
   "file_extension": ".py",
   "mimetype": "text/x-python",
   "name": "python",
   "nbconvert_exporter": "python",
   "pygments_lexer": "ipython3",
   "version": "3.10.8"
  }
 },
 "nbformat": 4,
 "nbformat_minor": 2
}
