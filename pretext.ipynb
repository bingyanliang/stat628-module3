{
 "cells": [
  {
   "cell_type": "code",
   "execution_count": null,
   "metadata": {},
   "outputs": [],
   "source": [
    "import pandas as pd"
   ]
  },
  {
   "cell_type": "code",
   "execution_count": null,
   "metadata": {},
   "outputs": [],
   "source": [
    "df = pd.read_csv('data/Tampa_mexican_restaurants.csv')"
   ]
  },
  {
   "cell_type": "code",
   "execution_count": null,
   "metadata": {},
   "outputs": [
    {
     "name": "stdout",
     "output_type": "stream",
     "text": [
      "<class 'pandas.core.frame.DataFrame'>\n",
      "RangeIndex: 34508 entries, 0 to 34507\n",
      "Data columns (total 21 columns):\n",
      " #   Column        Non-Null Count  Dtype  \n",
      "---  ------        --------------  -----  \n",
      " 0   review_id     34508 non-null  object \n",
      " 1   user_id       34508 non-null  object \n",
      " 2   business_id   34508 non-null  object \n",
      " 3   stars_x       34508 non-null  float64\n",
      " 4   useful        34508 non-null  int64  \n",
      " 5   funny         34508 non-null  int64  \n",
      " 6   cool          34508 non-null  int64  \n",
      " 7   text          34508 non-null  object \n",
      " 8   date          34508 non-null  object \n",
      " 9   name          34508 non-null  object \n",
      " 10  address       34473 non-null  object \n",
      " 11  city          34508 non-null  object \n",
      " 12  state         34508 non-null  object \n",
      " 13  postal_code   34508 non-null  float64\n",
      " 14  latitude      34508 non-null  float64\n",
      " 15  longitude     34508 non-null  float64\n",
      " 16  stars_y       34508 non-null  float64\n",
      " 17  review_count  34508 non-null  int64  \n",
      " 18  is_open       34508 non-null  int64  \n",
      " 19  categories    34508 non-null  object \n",
      " 20  hours         33688 non-null  object \n",
      "dtypes: float64(5), int64(5), object(11)\n",
      "memory usage: 5.5+ MB\n"
     ]
    }
   ],
   "source": [
    "df.info()"
   ]
  },
  {
   "cell_type": "code",
   "execution_count": null,
   "metadata": {},
   "outputs": [],
   "source": [
    "df.columns = df.columns.str.strip()\n",
    "df = df.drop(columns=['state', 'latitude', 'longitude','address'])"
   ]
  },
  {
   "cell_type": "code",
   "execution_count": null,
   "metadata": {},
   "outputs": [
    {
     "name": "stdout",
     "output_type": "stream",
     "text": [
      "<class 'pandas.core.frame.DataFrame'>\n",
      "RangeIndex: 34508 entries, 0 to 34507\n",
      "Data columns (total 18 columns):\n",
      " #   Column        Non-Null Count  Dtype  \n",
      "---  ------        --------------  -----  \n",
      " 0   review_id     34508 non-null  object \n",
      " 1   user_id       34508 non-null  object \n",
      " 2   business_id   34508 non-null  object \n",
      " 3   stars_x       34508 non-null  float64\n",
      " 4   useful        34508 non-null  int64  \n",
      " 5   funny         34508 non-null  int64  \n",
      " 6   cool          34508 non-null  int64  \n",
      " 7   text          34508 non-null  object \n",
      " 8   date          34508 non-null  object \n",
      " 9   name          34508 non-null  object \n",
      " 10  address       34473 non-null  object \n",
      " 11  city          34508 non-null  object \n",
      " 12  postal_code   34508 non-null  float64\n",
      " 13  stars_y       34508 non-null  float64\n",
      " 14  review_count  34508 non-null  int64  \n",
      " 15  is_open       34508 non-null  int64  \n",
      " 16  categories    34508 non-null  object \n",
      " 17  hours         33688 non-null  object \n",
      "dtypes: float64(3), int64(5), object(10)\n",
      "memory usage: 4.7+ MB\n"
     ]
    }
   ],
   "source": [
    "df.info()"
   ]
  },
  {
   "cell_type": "code",
   "execution_count": null,
   "metadata": {},
   "outputs": [
    {
     "name": "stderr",
     "output_type": "stream",
     "text": [
      "/tmp/ipykernel_7819/189673403.py:5: MarkupResemblesLocatorWarning: The input looks more like a filename than markup. You may want to open this file and pass the filehandle into Beautiful Soup.\n",
      "  soup = BeautifulSoup(text, \"html.parser\")\n"
     ]
    }
   ],
   "source": [
    "#remove html\n",
    "from bs4 import BeautifulSoup\n",
    "\n",
    "def remove_html_tags(text):\n",
    "    soup = BeautifulSoup(text, \"html.parser\")\n",
    "    return soup.get_text()\n",
    "\n",
    "df['text'] = df['text'].apply(remove_html_tags)"
   ]
  },
  {
   "cell_type": "code",
   "execution_count": null,
   "metadata": {},
   "outputs": [],
   "source": [
    "# remove punctuation\n",
    "import re\n",
    "\n",
    "def remove_punctuation(text):\n",
    "    return re.sub(r'[^\\w\\s]', ' ', text)\n",
    "\n",
    "df['text'] = df['text'].apply(remove_punctuation)"
   ]
  },
  {
   "cell_type": "code",
   "execution_count": null,
   "metadata": {},
   "outputs": [],
   "source": [
    "# remove phone numbers\n",
    "def remove_phone_numbers(text):\n",
    "    pattern = r'\\b\\d{3}[-.\\s]?\\d{3}[-.\\s]?\\d{4}\\b'\n",
    "    return re.sub(pattern, '', text)\n",
    "\n",
    "df['text'] = df['text'].apply(remove_punctuation)"
   ]
  },
  {
   "cell_type": "code",
   "execution_count": null,
   "metadata": {},
   "outputs": [
    {
     "name": "stderr",
     "output_type": "stream",
     "text": [
      "/tmp/ipykernel_7819/1750197722.py:5: FutureWarning: \n",
      "\n",
      "Passing `palette` without assigning `hue` is deprecated and will be removed in v0.14.0. Assign the `x` variable to `hue` and set `legend=False` for the same effect.\n",
      "\n",
      "  sns.countplot(data=df, x='stars_y', palette='viridis')\n"
     ]
    },
    {
     "data": {
      "image/png": "[encoded data removed]",
      "text/plain": [
       "<Figure size 800x600 with 1 Axes>"
      ]
     },
     "metadata": {},
     "output_type": "display_data"
    }
   ],
   "source": [
    "import matplotlib.pyplot as plt\n",
    "import seaborn as sns\n",
    "\n",
    "plt.figure(figsize=(8, 6))\n",
    "sns.countplot(data=df, x='stars_y', palette='viridis')\n",
    "plt.title('Distribution of Restaurant Ratings (stars_y)')\n",
    "plt.xlabel('Ratings')\n",
    "plt.ylabel('Count')\n",
    "plt.show()"
   ]
  },
  {
   "cell_type": "code",
   "execution_count": null,
   "metadata": {},
   "outputs": [],
   "source": [
    "# Count the number of reviews for each business\n",
    "business_review_counts = df['business_id'].value_counts()\n",
    "\n",
    "# Get the list of business IDs with more than 50 reviews\n",
    "business_ids_with_100plus_reviews = business_review_counts[business_review_counts > 100].index\n",
    "\n",
    "# Filter the DataFrame to keep only the entries with these business IDs\n",
    "filtered_df = df[df['business_id'].isin(business_ids_with_100plus_reviews)]"
   ]
  },
  {
   "cell_type": "code",
   "execution_count": null,
   "metadata": {},
   "outputs": [
    {
     "name": "stderr",
     "output_type": "stream",
     "text": [
      "/tmp/ipykernel_7819/3800678003.py:5: FutureWarning: \n",
      "\n",
      "Passing `palette` without assigning `hue` is deprecated and will be removed in v0.14.0. Assign the `x` variable to `hue` and set `legend=False` for the same effect.\n",
      "\n",
      "  sns.countplot(data=filtered_df, x='stars_y', palette='viridis')\n"
     ]
    },
    {
     "data": {
      "image/png": "[encoded data removed]",
      "text/plain": [
       "<Figure size 800x600 with 1 Axes>"
      ]
     },
     "metadata": {},
     "output_type": "display_data"
    }
   ],
   "source": [
    "import matplotlib.pyplot as plt\n",
    "import seaborn as sns\n",
    "\n",
    "plt.figure(figsize=(8, 6))\n",
    "sns.countplot(data=filtered_df, x='stars_y', palette='viridis')\n",
    "plt.title('Distribution of Restaurant Ratings (stars_y)')\n",
    "plt.xlabel('Ratings')\n",
    "plt.ylabel('Count')\n",
    "plt.show()"
   ]
  },
  {
   "cell_type": "code",
   "execution_count": null,
   "metadata": {},
   "outputs": [
    {
     "name": "stdout",
     "output_type": "stream",
     "text": [
      "<class 'pandas.core.frame.DataFrame'>\n",
      "Index: 27014 entries, 0 to 34506\n",
      "Data columns (total 17 columns):\n",
      " #   Column        Non-Null Count  Dtype  \n",
      "---  ------        --------------  -----  \n",
      " 0   review_id     27014 non-null  object \n",
      " 1   user_id       27014 non-null  object \n",
      " 2   business_id   27014 non-null  object \n",
      " 3   stars_x       27014 non-null  float64\n",
      " 4   useful        27014 non-null  int64  \n",
      " 5   funny         27014 non-null  int64  \n",
      " 6   cool          27014 non-null  int64  \n",
      " 7   text          27014 non-null  object \n",
      " 8   date          27014 non-null  object \n",
      " 9   name          27014 non-null  object \n",
      " 10  city          27014 non-null  object \n",
      " 11  postal_code   27014 non-null  float64\n",
      " 12  stars_y       27014 non-null  float64\n",
      " 13  review_count  27014 non-null  int64  \n",
      " 14  is_open       27014 non-null  int64  \n",
      " 15  categories    27014 non-null  object \n",
      " 16  hours         26629 non-null  object \n",
      "dtypes: float64(3), int64(5), object(9)\n",
      "memory usage: 3.7+ MB\n"
     ]
    }
   ],
   "source": [
    "filtered_df.info()"
   ]
  },
  {
   "cell_type": "code",
   "execution_count": null,
   "metadata": {},
   "outputs": [],
   "source": [
    "import spacy\n",
    "nlp = spacy.load(\"en_core_web_sm\")\n",
    "\n",
    "def tokenize_text(text):\n",
    "    doc = nlp(text)\n",
    "    tokens = [token.text for token in doc]\n",
    "    return tokens"
   ]
  },
  {
   "cell_type": "code",
   "execution_count": null,
   "metadata": {},
   "outputs": [
    {
     "name": "stderr",
     "output_type": "stream",
     "text": [
      "/tmp/ipykernel_7819/3997376680.py:1: SettingWithCopyWarning: \n",
      "A value is trying to be set on a copy of a slice from a DataFrame.\n",
      "Try using .loc[row_indexer,col_indexer] = value instead\n",
      "\n",
      "See the caveats in the documentation: https://pandas.pydata.org/pandas-docs/stable/user_guide/indexing.html#returning-a-view-versus-a-copy\n",
      "  filtered_df['token'] = filtered_df['text'].apply(tokenize_text)\n"
     ]
    }
   ],
   "source": [
    "filtered_df['token'] = filtered_df['text'].apply(tokenize_text)"
   ]
  },
  {
   "cell_type": "code",
   "execution_count": null,
   "metadata": {},
   "outputs": [],
   "source": [
    "# Convert all text columns to lowercase\n",
    "# filtered_df['token'] = filtered_df['token'].apply(lambda x: x.str.lower() if x.dtype == \"object\" else x)\n",
    "# Assuming 'token_list' is your list of strings\n",
    "# filtered_df['token'] = filtered_df['token'].apply(lambda tokens: [token.lower() for token in tokens] if isinstance(tokens, list) else tokens)\n",
    "filtered_df.loc[:, 'token'] = filtered_df['token'].str.lower()"
   ]
  },
  {
   "cell_type": "code",
   "execution_count": null,
   "metadata": {},
   "outputs": [],
   "source": [
    "filtered_df.to_csv('data/token_text.csv', index=False)"
   ]
  },
  {
   "cell_type": "code",
   "execution_count": null,
   "metadata": {},
   "outputs": [
    {
     "name": "stderr",
     "output_type": "stream",
     "text": [
      "[nltk_data] Downloading package stopwords to\n",
      "[nltk_data]     /home/codespace/nltk_data...\n",
      "[nltk_data]   Package stopwords is already up-to-date!\n",
      "/tmp/ipykernel_777/4081180360.py:15: SettingWithCopyWarning: \n",
      "A value is trying to be set on a copy of a slice from a DataFrame.\n",
      "Try using .loc[row_indexer,col_indexer] = value instead\n",
      "\n",
      "See the caveats in the documentation: https://pandas.pydata.org/pandas-docs/stable/user_guide/indexing.html#returning-a-view-versus-a-copy\n",
      "  filtered_df['filtered_token'] = filtered_df['token'].apply(remove_stopwords)\n"
     ]
    }
   ],
   "source": [
    "import nltk\n",
    "from nltk.corpus import stopwords\n",
    "\n",
    "# Download the list of stop words\n",
    "nltk.download('stopwords')\n",
    "\n",
    "# Initialize the stop words set\n",
    "stop_words = set(stopwords.words('english'))\n",
    "\n",
    "# Define a function to remove stop words from a list of tokens\n",
    "def remove_stopwords(tokens):\n",
    "    return [token for token in tokens if token.lower() not in stop_words]\n",
    "\n",
    "# Apply stop word removal to the 'tokens' column\n",
    "filtered_df['filtered_token'] = filtered_df['token'].apply(remove_stopwords)\n"
   ]
  },
  {
   "cell_type": "code",
   "execution_count": null,
   "metadata": {},
   "outputs": [],
   "source": [
    "from collections import Counter\n",
    "\n",
    "def create_ngrams(token_list, nb_elements):\n",
    "    ngrams = zip(*[token_list[index_token:] for index_token in range(nb_elements)])\n",
    "    return (\" \".join(ngram) for ngram in ngrams)\n",
    "\n",
    "def frequent_words(list_words, ngrams_number=1, number_top_words=10):\n",
    "    frequent = []\n",
    "    if ngrams_number == 1:\n",
    "        pass\n",
    "    elif ngrams_number >= 2:\n",
    "        list_words = create_ngrams(list_words, ngrams_number)\n",
    "    else:\n",
    "        raise ValueError(\"number of n-grams should be >= 1\")\n",
    "    counter = Counter(list_words)\n",
    "    frequent = counter.most_common(number_top_words)\n",
    "    return frequent"
   ]
  },
  {
   "cell_type": "code",
   "execution_count": null,
   "metadata": {},
   "outputs": [],
   "source": [
    "# general\n",
    "list_of_tokens = filtered_df['filtered_token'].explode().dropna() \n",
    "\n",
    "most_frequent_words = frequent_words(list_of_tokens, ngrams_number=1, number_top_words=10)\n",
    "\n",
    "# Print the most frequent words with an empty separator\n",
    "for word, count in most_frequent_words:\n",
    "    print(f\"{word}:{count}\", sep=\"\")"
   ]
  },
  {
   "cell_type": "code",
   "execution_count": null,
   "metadata": {},
   "outputs": [
    {
     "name": "stdout",
     "output_type": "stream",
     "text": [
      "mexican food: 3222\n",
      "ca nt: 2037\n",
      "chips salsa: 1686\n",
      "first time: 1417\n",
      "taco bus: 1305\n",
      "go back: 1228\n",
      "really good: 1203\n",
      "food good: 1177\n",
      "authentic mexican: 1127\n",
      "wo nt: 1107\n"
     ]
    }
   ],
   "source": [
    "most_frequent_words = frequent_words(list_of_tokens, ngrams_number=2, number_top_words=10)\n",
    "\n",
    "# Print the most frequent words\n",
    "for word, count in most_frequent_words:\n",
    "    print(f\"{word}: {count}\")"
   ]
  },
  {
   "cell_type": "code",
   "execution_count": null,
   "metadata": {},
   "outputs": [
    {
     "name": "stdout",
     "output_type": "stream",
     "text": [
      "ca nt wait: 558\n",
      "authentic mexican food: 555\n",
      "best mexican food: 345\n",
      "good mexican food: 270\n",
      "nt wait go: 229\n",
      "wait go back: 227\n",
      "pico de gallo: 223\n",
      "ca nt go: 210\n",
      "mexican food tampa: 195\n",
      "definitely come back: 194\n"
     ]
    }
   ],
   "source": [
    "most_frequent_words = frequent_words(list_of_tokens, ngrams_number=3, number_top_words=10)\n",
    "\n",
    "# Print the most frequent words\n",
    "for word, count in most_frequent_words:\n",
    "    print(f\"{word}: {count}\")"
   ]
  },
  {
   "cell_type": "code",
   "execution_count": null,
   "metadata": {},
   "outputs": [
    {
     "name": "stdout",
     "output_type": "stream",
     "text": [
      " : 8698\n",
      "food: 6220\n",
      "nt: 5813\n",
      "\n",
      "\n",
      ": 3079\n",
      "place: 2845\n",
      "good: 2422\n",
      "service: 2403\n",
      "like: 2345\n",
      "order: 2202\n",
      "would: 2131\n",
      "\n",
      "\n",
      "mexican food: 585\n",
      "wo nt: 541\n",
      "nt even: 456\n",
      "taco bus: 366\n",
      "could nt: 354\n",
      "ca nt: 350\n",
      "chips salsa: 336\n",
      "tasted like: 311\n",
      "go back: 293\n",
      "customer service: 288\n",
      "\n",
      "\n",
      "wo nt back: 157\n",
      "authentic mexican food: 79\n",
      "never go back: 64\n",
      "could nt even: 56\n",
      "  wo nt: 51\n",
      "probably wo nt: 49\n",
      "mexican food  : 48\n",
      "wo nt going: 48\n",
      "good mexican food: 48\n",
      "wo nt go: 41\n"
     ]
    }
   ],
   "source": [
    "# Define the range of 'star_x' values from 1 to 2\n",
    "min_star_x = 1.0\n",
    "max_star_x = 2.0 \n",
    "\n",
    "filtered_df = filtered_df[(filtered_df['stars_x'] >= min_star_x) & (filtered_df['stars_x'] <= max_star_x)]\n",
    "\n",
    "list_of_tokens = filtered_df['filtered_token'].explode().dropna()\n",
    "\n",
    "most_frequent_words = frequent_words(list_of_tokens, ngrams_number=1, number_top_words=10)\n",
    "\n",
    "for word, count in most_frequent_words:\n",
    "    print(f\"{word}: {count}\")\n",
    "print('\\n')\n",
    "    \n",
    "\n",
    "most_frequent_words = frequent_words(list_of_tokens, ngrams_number=2, number_top_words=10)\n",
    "\n",
    "for word, count in most_frequent_words:\n",
    "    print(f\"{word}: {count}\")\n",
    "print('\\n')\n",
    "    \n",
    "\n",
    "most_frequent_words = frequent_words(list_of_tokens, ngrams_number=3, number_top_words=10)\n",
    "\n",
    "for word, count in most_frequent_words:\n",
    "    print(f\"{word}: {count}\")"
   ]
  },
  {
   "cell_type": "code",
   "execution_count": null,
   "metadata": {},
   "outputs": [
    {
     "name": "stdout",
     "output_type": "stream",
     "text": [
      " : 3845\n",
      "food: 2733\n",
      "nt: 2529\n",
      "\n",
      "\n",
      ": 1672\n",
      "good: 1430\n",
      "place: 1277\n",
      "service: 1075\n",
      "like: 1058\n",
      "tacos: 1042\n",
      "ordered: 995\n",
      "\n",
      "\n",
      "mexican food: 268\n",
      "wo nt: 227\n",
      "taco bus: 181\n",
      "chips salsa: 174\n",
      "nt even: 151\n",
      "go back: 140\n",
      "food good: 135\n",
      "tasted like: 132\n",
      "ca nt: 132\n",
      "could nt: 129\n",
      "\n",
      "\n",
      "wo nt back: 69\n",
      "probably wo nt: 39\n",
      "authentic mexican food: 38\n",
      "good mexican food: 25\n",
      "mexican food  : 23\n",
      "wo nt go: 23\n",
      "nt go back: 23\n",
      "wo nt going: 21\n",
      "wanted like place: 21\n",
      "food good service: 20\n"
     ]
    }
   ],
   "source": [
    "# Define the range of 'star_x' values from 1 to 2\n",
    "min_star_x = 2.0\n",
    "max_star_x = 3.0 \n",
    "\n",
    "filtered_df = filtered_df[(filtered_df['stars_x'] >= min_star_x) & (filtered_df['stars_x'] <= max_star_x)]\n",
    "\n",
    "list_of_tokens = filtered_df['filtered_token'].explode().dropna()\n",
    "\n",
    "most_frequent_words = frequent_words(list_of_tokens, ngrams_number=1, number_top_words=10)\n",
    "\n",
    "for word, count in most_frequent_words:\n",
    "    print(f\"{word}: {count}\")\n",
    "print('\\n')\n",
    "    \n",
    "\n",
    "most_frequent_words = frequent_words(list_of_tokens, ngrams_number=2, number_top_words=10)\n",
    "\n",
    "for word, count in most_frequent_words:\n",
    "    print(f\"{word}: {count}\")\n",
    "print('\\n')\n",
    "    \n",
    "\n",
    "most_frequent_words = frequent_words(list_of_tokens, ngrams_number=3, number_top_words=10)\n",
    "\n",
    "for word, count in most_frequent_words:\n",
    "    print(f\"{word}: {count}\")"
   ]
  },
  {
   "cell_type": "code",
   "execution_count": null,
   "metadata": {},
   "outputs": [
    {
     "name": "stdout",
     "output_type": "stream",
     "text": [
      "\n",
      "\n"
     ]
    }
   ],
   "source": [
    "# Define the range of 'star_x' values from 1 to 2\n",
    "min_star_x = 3.0\n",
    "max_star_x = 4.0 \n",
    "\n",
    "filtered_df = filtered_df[(filtered_df['stars_x'] >= min_star_x) & (filtered_df['stars_x'] <= max_star_x)]\n",
    "\n",
    "list_of_tokens = filtered_df['filtered_token'].explode().dropna()\n",
    "\n",
    "most_frequent_words = frequent_words(list_of_tokens, ngrams_number=2, number_top_words=10)\n",
    "\n",
    "for word, count in most_frequent_words:\n",
    "    print(f\"{word}: {count}\")\n",
    "print('\\n')"
   ]
  }
 ],
 "metadata": {
  "kernelspec": {
   "display_name": "Python 3 (ipykernel)",
   "language": "python",
   "name": "python3"
  },
  "language_info": {
   "codemirror_mode": {
    "name": "ipython",
    "version": 3
   },
   "file_extension": ".py",
   "mimetype": "text/x-python",
   "name": "python",
   "nbconvert_exporter": "python",
   "pygments_lexer": "ipython3",
   "version": "3.10.8"
  }
 },
 "nbformat": 4,
 "nbformat_minor": 2
}
