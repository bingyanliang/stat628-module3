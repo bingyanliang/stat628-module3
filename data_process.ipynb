{
 "cells": [
  {
   "attachments": {},
   "cell_type": "markdown",
   "metadata": {},
   "source": [
    "## Preliminary Check for 'review.json'"
   ]
  },
  {
   "cell_type": "code",
   "execution_count": 2,
   "metadata": {},
   "outputs": [
    {
     "name": "stdout",
     "output_type": "stream",
     "text": [
      "dict_keys(['review_id', 'user_id', 'business_id', 'stars', 'useful', 'funny', 'cool', 'text', 'date'])\n"
     ]
    }
   ],
   "source": [
    "import json\n",
    "\n",
    "review = \"data/review.json\"\n",
    "\n",
    "with open(review, 'r') as f:\n",
    "    for line_number, line in enumerate(f, start=1):\n",
    "        try:\n",
    "            obj = json.loads(line)\n",
    "            print(obj.keys())\n",
    "            break\n",
    "        except json.JSONDecodeError as e:\n",
    "            print(f\"Error parsing JSON on line {line_number}: {e}\")\n"
   ]
  },
  {
   "attachments": {},
   "cell_type": "markdown",
   "metadata": {},
   "source": [
    "## Check 'business.json'"
   ]
  },
  {
   "cell_type": "code",
   "execution_count": 5,
   "metadata": {},
   "outputs": [
    {
     "name": "stdout",
     "output_type": "stream",
     "text": [
      "<class 'pandas.core.frame.DataFrame'>\n",
      "RangeIndex: 150346 entries, 0 to 150345\n",
      "Data columns (total 14 columns):\n",
      " #   Column        Non-Null Count   Dtype  \n",
      "---  ------        --------------   -----  \n",
      " 0   business_id   150346 non-null  object \n",
      " 1   name          150346 non-null  object \n",
      " 2   address       150346 non-null  object \n",
      " 3   city          150346 non-null  object \n",
      " 4   state         150346 non-null  object \n",
      " 5   postal_code   150346 non-null  object \n",
      " 6   latitude      150346 non-null  float64\n",
      " 7   longitude     150346 non-null  float64\n",
      " 8   stars         150346 non-null  float64\n",
      " 9   review_count  150346 non-null  int64  \n",
      " 10  is_open       150346 non-null  int64  \n",
      " 11  attributes    136602 non-null  object \n",
      " 12  categories    150243 non-null  object \n",
      " 13  hours         127123 non-null  object \n",
      "dtypes: float64(3), int64(2), object(9)\n",
      "memory usage: 16.1+ MB\n",
      "None\n"
     ]
    }
   ],
   "source": [
    "import pandas as pd\n",
    "\n",
    "business = pd.read_json(\"data/business.json\", lines=True)\n",
    "print(business.info())\n"
   ]
  },
  {
   "attachments": {},
   "cell_type": "markdown",
   "metadata": {},
   "source": [
    "## Filter the business data of FL & save to csv file"
   ]
  },
  {
   "cell_type": "code",
   "execution_count": 4,
   "metadata": {},
   "outputs": [
    {
     "name": "stdout",
     "output_type": "stream",
     "text": [
      "data/florida_businesses.csv saved\n"
     ]
    }
   ],
   "source": [
    "import csv\n",
    "\n",
    "input_filename = 'data/business.json'\n",
    "output_filename = 'data/florida_businesses.csv'\n",
    "\n",
    "with open(input_filename, 'r') as infile, open(output_filename, 'w', newline='', encoding='utf-8') as outfile:\n",
    "    csv_writer = None\n",
    "    for line in infile:\n",
    "        try:\n",
    "            business = json.loads(line)\n",
    "            if business['state'] == 'FL':\n",
    "                if csv_writer is None:\n",
    "                    csv_writer = csv.DictWriter(outfile, fieldnames=business.keys())\n",
    "                    csv_writer.writeheader()\n",
    "                csv_writer.writerow(business)\n",
    "        except json.JSONDecodeError as e:\n",
    "            print(f\"Error parsing JSON: {e}\")\n",
    "        except KeyError as e:\n",
    "            print(f\"Missing expected key: {e}\")\n",
    "\n",
    "print(output_filename, \"saved\")"
   ]
  },
  {
   "attachments": {},
   "cell_type": "markdown",
   "metadata": {},
   "source": [
    "## Filter the review data of FL & save"
   ]
  },
  {
   "cell_type": "code",
   "execution_count": 6,
   "metadata": {},
   "outputs": [
    {
     "name": "stdout",
     "output_type": "stream",
     "text": [
      "data/florida_businesses.csv saved\n"
     ]
    }
   ],
   "source": [
    "import pandas as pd\n",
    "import itertools\n",
    "\n",
    "florida_businesses_filename = 'data/florida_businesses.csv'\n",
    "reviews_file = 'data/review.json'\n",
    "output_file = 'data/florida_reviews.csv'\n",
    "\n",
    "florida_businesses = pd.read_csv(florida_businesses_filename)\n",
    "florida_business_ids = set(florida_businesses['business_id'])\n",
    "\n",
    "chunk_size = 10000  \n",
    "with open(reviews_file, 'r') as infile, open(output_file, 'w', newline='', encoding='utf-8') as outfile:\n",
    "    header_written = False\n",
    "    \n",
    "    while True:\n",
    "        lines = list(itertools.islice(infile, chunk_size))\n",
    "        if not lines:\n",
    "            break\n",
    "        reviews = [json.loads(line) for line in lines]\n",
    "        \n",
    "        florida_reviews = [review for review in reviews if review['business_id'] in florida_business_ids]\n",
    "        \n",
    "        if florida_reviews:\n",
    "            df = pd.DataFrame(florida_reviews)\n",
    "            if not header_written:\n",
    "                df.to_csv(outfile, index=False, mode='w')\n",
    "                header_written = True\n",
    "            else:\n",
    "                df.to_csv(outfile, index=False, mode='a', header=False)\n",
    "print(output_filename, \"saved\")"
   ]
  },
  {
   "attachments": {},
   "cell_type": "markdown",
   "metadata": {},
   "source": [
    "## Merge the business data & review data"
   ]
  },
  {
   "cell_type": "code",
   "execution_count": 7,
   "metadata": {},
   "outputs": [
    {
     "name": "stdout",
     "output_type": "stream",
     "text": [
      "Florida reviews. Number of rows: 1161545\n",
      "Florida businesses. Number of rows: 26330\n",
      "Datasets merged. Number of rows in merged dataset: 1161545\n",
      "Merged data saved to data/merged_florida_data.csv\n"
     ]
    }
   ],
   "source": [
    "florida_reviews_filename = 'data/florida_reviews.csv'\n",
    "florida_businesses_filename = 'data/florida_businesses.csv'\n",
    "output_filename = 'data/merged_florida_data.csv'\n",
    "\n",
    "florida_reviews = pd.read_csv(florida_reviews_filename)\n",
    "print(\"Florida reviews. Number of rows:\", len(florida_reviews))\n",
    "\n",
    "florida_businesses = pd.read_csv(florida_businesses_filename)\n",
    "print(\"Florida businesses. Number of rows:\", len(florida_businesses))\n",
    "\n",
    "merged_data = pd.merge(florida_reviews, florida_businesses, on='business_id', how='left')\n",
    "print(\"Datasets merged. Number of rows in merged dataset:\", len(merged_data))\n",
    "\n",
    "merged_data.to_csv(output_filename, index=False)\n",
    "print(\"Merged data saved to\", output_filename)"
   ]
  },
  {
   "attachments": {},
   "cell_type": "markdown",
   "metadata": {},
   "source": [
    "## Filter the hills "
   ]
  },
  {
   "cell_type": "code",
   "execution_count": 8,
   "metadata": {},
   "outputs": [],
   "source": [
    "hill_businesses = pd.read_csv('data/hill_business.csv')\n",
    "florida_business_ids = set(hill_businesses['business_id'])\n",
    "reviews_iter = pd.read_csv('data/merged_florida_data.csv', chunksize=10000)\n",
    "\n",
    "first_chunk = True\n",
    "for chunk in reviews_iter:\n",
    "    florida_reviews_chunk = chunk[chunk['business_id'].isin(florida_business_ids)]\n",
    "    \n",
    "    if not florida_reviews_chunk.empty:\n",
    "        if first_chunk:\n",
    "            florida_reviews_chunk.to_csv('data/merged_Tampa.csv', mode='w', index=False)\n",
    "            first_chunk = False\n",
    "        else:\n",
    "            florida_reviews_chunk.to_csv('data/merged_Tampa.csv', mode='a', index=False, header=False)"
   ]
  },
  {
   "cell_type": "code",
   "execution_count": 10,
   "metadata": {},
   "outputs": [
    {
     "name": "stdout",
     "output_type": "stream",
     "text": [
      "['review_id', 'user_id', 'business_id', 'stars_x', 'useful', 'funny', 'cool', 'text', 'date', 'name', 'address', 'city', 'state', 'postal_code', 'latitude', 'longitude', 'stars_y', 'review_count', 'is_open', 'attributes', 'categories', 'hours']\n"
     ]
    }
   ],
   "source": [
    "file_path = 'data/merged_Tampa.csv'\n",
    "\n",
    "\n",
    "df = pd.read_csv(file_path, nrows=0)  \n",
    "\n",
    "\n",
    "print(df.columns.tolist())"
   ]
  },
  {
   "attachments": {},
   "cell_type": "markdown",
   "metadata": {},
   "source": [
    "## Get the restaurant "
   ]
  },
  {
   "cell_type": "code",
   "execution_count": 11,
   "metadata": {},
   "outputs": [
    {
     "name": "stdout",
     "output_type": "stream",
     "text": [
      "data/Tampa_restaurants.csv saved\n"
     ]
    }
   ],
   "source": [
    "file_path = 'data/merged_Tampa.csv'\n",
    "new_file_path = 'data/Tampa_restaurants.csv'\n",
    "\n",
    "other_columns = [\n",
    "    'review_id', 'user_id', 'business_id', 'stars_x', 'useful', 'funny', 'cool',\n",
    "    'text', 'date', 'name', 'address', 'city', 'state', 'postal_code',\n",
    "    'latitude', 'longitude', 'stars_y', 'review_count', 'is_open', 'categories', 'hours'\n",
    "]\n",
    "\n",
    "\n",
    "chunksize = 10 ** 5  \n",
    "filtered_chunks = [] \n",
    "\n",
    "for chunk in pd.read_csv(file_path, chunksize=chunksize, usecols=['categories'] + other_columns):\n",
    "\n",
    "    filtered_chunk = chunk[chunk['categories'].str.contains('restaurant', case=False, na=False)]\n",
    "    filtered_chunks.append(filtered_chunk)\n",
    "\n",
    "\n",
    "filtered_data = pd.concat(filtered_chunks)\n",
    "\n",
    "filtered_data.to_csv(new_file_path, index=False)\n",
    "\n",
    "print(new_file_path,'saved')"
   ]
  },
  {
   "attachments": {},
   "cell_type": "markdown",
   "metadata": {},
   "source": [
    "## Get the Mexican restaurant data"
   ]
  },
  {
   "cell_type": "code",
   "execution_count": 13,
   "metadata": {},
   "outputs": [
    {
     "name": "stdout",
     "output_type": "stream",
     "text": [
      "Number of rows with Mexican in categories: 34608\n",
      "<class 'pandas.core.frame.DataFrame'>\n",
      "RangeIndex: 34608 entries, 0 to 34607\n",
      "Data columns (total 21 columns):\n",
      " #   Column        Non-Null Count  Dtype  \n",
      "---  ------        --------------  -----  \n",
      " 0   review_id     34608 non-null  object \n",
      " 1   user_id       34608 non-null  object \n",
      " 2   business_id   34608 non-null  object \n",
      " 3   stars_x       34608 non-null  float64\n",
      " 4   useful        34608 non-null  int64  \n",
      " 5   funny         34608 non-null  int64  \n",
      " 6   cool          34608 non-null  int64  \n",
      " 7   text          34608 non-null  object \n",
      " 8   date          34608 non-null  object \n",
      " 9   name          34608 non-null  object \n",
      " 10  address       34572 non-null  object \n",
      " 11  city          34608 non-null  object \n",
      " 12  state         34608 non-null  object \n",
      " 13  postal_code   34608 non-null  float64\n",
      " 14  latitude      34608 non-null  float64\n",
      " 15  longitude     34608 non-null  float64\n",
      " 16  stars_y       34608 non-null  float64\n",
      " 17  review_count  34608 non-null  int64  \n",
      " 18  is_open       34608 non-null  int64  \n",
      " 19  categories    34608 non-null  object \n",
      " 20  hours         33782 non-null  object \n",
      "dtypes: float64(5), int64(5), object(11)\n",
      "memory usage: 5.5+ MB\n",
      "None\n"
     ]
    }
   ],
   "source": [
    "data = pd.read_csv(\"data/Tampa_restaurants.csv\")\n",
    "mexican_count = data['categories'].str.contains('Mexican', case=False, na=False).sum()\n",
    "print(f'Number of rows with Mexican in categories: {mexican_count}')\n",
    "mexican_restaurants = data[data['categories'].str.contains('Mexican', case=False, na=False)]\n",
    "mexican_restaurants.to_csv('data/Tampa_mexican_restaurants.csv', index=False)\n",
    "tmr = pd.read_csv(\"data/Tampa_mexican_restaurants.csv\")\n",
    "print(tmr.info())"
   ]
  },
  {
   "attachments": {},
   "cell_type": "markdown",
   "metadata": {},
   "source": [
    "## Filter the non-English 'text'"
   ]
  },
  {
   "cell_type": "code",
   "execution_count": 15,
   "metadata": {},
   "outputs": [
    {
     "name": "stdout",
     "output_type": "stream",
     "text": [
      "non-English text entries: 101\n"
     ]
    }
   ],
   "source": [
    "from langdetect import detect, LangDetectException\n",
    "\n",
    "file_path = 'data/Tampa_mexican_restaurants.csv'\n",
    "\n",
    "non_english_count = 0\n",
    "\n",
    "def detect_language(text):\n",
    "    try:\n",
    "        return detect(text)\n",
    "    except LangDetectException:\n",
    "        return 'unknown'\n",
    "\n",
    "\n",
    "chunksize = 10 ** 5  \n",
    "\n",
    "for chunk in pd.read_csv(file_path, chunksize=chunksize, usecols=['text']):\n",
    "    chunk_languages = chunk['text'].apply(detect_language)\n",
    "    non_english_count += (chunk_languages != 'en').sum()\n",
    "\n",
    "print(f'non-English text entries: {non_english_count}')"
   ]
  },
  {
   "cell_type": "code",
   "execution_count": 16,
   "metadata": {},
   "outputs": [
    {
     "name": "stdout",
     "output_type": "stream",
     "text": [
      "cleaned_data saved\n"
     ]
    }
   ],
   "source": [
    "file_path = 'data/Tampa_mexican_restaurants.csv'\n",
    "cleaned_file_path = 'data/cleaned_data.csv'\n",
    "\n",
    "chunksize = 10 ** 5  \n",
    "cleaned_chunks = []  \n",
    "\n",
    "for chunk in pd.read_csv(file_path, chunksize=chunksize):\n",
    "    def is_english(text):\n",
    "        try:\n",
    "            return detect(text) == 'en'\n",
    "        except LangDetectException:\n",
    "            return False\n",
    "\n",
    "    chunk['is_english'] = chunk['text'].apply(is_english)\n",
    "    cleaned_chunk = chunk[chunk['is_english']]\n",
    "    cleaned_chunks.append(cleaned_chunk.drop(columns='is_english')) \n",
    "\n",
    "cleaned_data = pd.concat(cleaned_chunks)\n",
    "\n",
    "cleaned_data.to_csv(cleaned_file_path, index=False)\n",
    "\n",
    "print('cleaned_data saved')"
   ]
  },
  {
   "cell_type": "code",
   "execution_count": 18,
   "metadata": {},
   "outputs": [
    {
     "data": {
      "text/html": [
       "<div>\n",
       "<style scoped>\n",
       "    .dataframe tbody tr th:only-of-type {\n",
       "        vertical-align: middle;\n",
       "    }\n",
       "\n",
       "    .dataframe tbody tr th {\n",
       "        vertical-align: top;\n",
       "    }\n",
       "\n",
       "    .dataframe thead th {\n",
       "        text-align: right;\n",
       "    }\n",
       "</style>\n",
       "<table border=\"1\" class=\"dataframe\">\n",
       "  <thead>\n",
       "    <tr style=\"text-align: right;\">\n",
       "      <th></th>\n",
       "      <th>review_id</th>\n",
       "      <th>user_id</th>\n",
       "      <th>business_id</th>\n",
       "      <th>stars_x</th>\n",
       "      <th>useful</th>\n",
       "      <th>funny</th>\n",
       "      <th>cool</th>\n",
       "      <th>text</th>\n",
       "      <th>date</th>\n",
       "      <th>name</th>\n",
       "      <th>...</th>\n",
       "      <th>city</th>\n",
       "      <th>state</th>\n",
       "      <th>postal_code</th>\n",
       "      <th>latitude</th>\n",
       "      <th>longitude</th>\n",
       "      <th>stars_y</th>\n",
       "      <th>review_count</th>\n",
       "      <th>is_open</th>\n",
       "      <th>categories</th>\n",
       "      <th>hours</th>\n",
       "    </tr>\n",
       "  </thead>\n",
       "  <tbody>\n",
       "    <tr>\n",
       "      <th>0</th>\n",
       "      <td>cCs7yPSyk8NdA-Ufoz_7hw</td>\n",
       "      <td>FodM8aoGMQO2zsQCQxBTYQ</td>\n",
       "      <td>v5ktgWMAARaczTMh2rAJKg</td>\n",
       "      <td>2.0</td>\n",
       "      <td>0</td>\n",
       "      <td>0</td>\n",
       "      <td>0</td>\n",
       "      <td>The service here has gone down. We used to go ...</td>\n",
       "      <td>2017-12-27 02:57:57</td>\n",
       "      <td>San Jose Mexican Restaurant</td>\n",
       "      <td>...</td>\n",
       "      <td>Lutz</td>\n",
       "      <td>FL</td>\n",
       "      <td>33558.0</td>\n",
       "      <td>28.189335</td>\n",
       "      <td>-82.541048</td>\n",
       "      <td>3.0</td>\n",
       "      <td>155</td>\n",
       "      <td>1</td>\n",
       "      <td>Restaurants, Mexican, Salad</td>\n",
       "      <td>{'Monday': '11:0-21:30', 'Tuesday': '11:0-21:3...</td>\n",
       "    </tr>\n",
       "    <tr>\n",
       "      <th>1</th>\n",
       "      <td>3lwAyxwk0zxKI8JkINtXXQ</td>\n",
       "      <td>BlJg3Lj8wRBLs71LmAsjEQ</td>\n",
       "      <td>3yI-7C8JzbG-ZaSqAGHMAQ</td>\n",
       "      <td>4.0</td>\n",
       "      <td>1</td>\n",
       "      <td>0</td>\n",
       "      <td>0</td>\n",
       "      <td>What a hidden gem of a restaurant.  While ever...</td>\n",
       "      <td>2012-07-16 19:54:00</td>\n",
       "      <td>TacoSon</td>\n",
       "      <td>...</td>\n",
       "      <td>Tampa</td>\n",
       "      <td>FL</td>\n",
       "      <td>33617.0</td>\n",
       "      <td>28.017024</td>\n",
       "      <td>-82.393013</td>\n",
       "      <td>4.5</td>\n",
       "      <td>453</td>\n",
       "      <td>1</td>\n",
       "      <td>Restaurants, Mexican</td>\n",
       "      <td>{'Monday': '7:0-21:0', 'Tuesday': '7:0-21:0', ...</td>\n",
       "    </tr>\n",
       "    <tr>\n",
       "      <th>2</th>\n",
       "      <td>Uz94ISY4REBG0Yeuoszcgg</td>\n",
       "      <td>DrD4gyOQ3iOXWZUej153Ng</td>\n",
       "      <td>FSTmzo0beEVMRMSArcp4fg</td>\n",
       "      <td>2.0</td>\n",
       "      <td>0</td>\n",
       "      <td>0</td>\n",
       "      <td>0</td>\n",
       "      <td>First visit tonight. Nice, clean place. Reason...</td>\n",
       "      <td>2015-11-19 00:30:41</td>\n",
       "      <td>Lime Fresh Mexican Grill</td>\n",
       "      <td>...</td>\n",
       "      <td>Tampa</td>\n",
       "      <td>FL</td>\n",
       "      <td>33607.0</td>\n",
       "      <td>27.959014</td>\n",
       "      <td>-82.524408</td>\n",
       "      <td>3.0</td>\n",
       "      <td>106</td>\n",
       "      <td>0</td>\n",
       "      <td>Mexican, Restaurants</td>\n",
       "      <td>{'Monday': '11:0-22:0', 'Tuesday': '11:0-22:0'...</td>\n",
       "    </tr>\n",
       "    <tr>\n",
       "      <th>3</th>\n",
       "      <td>Naht5FrBGZDFGjwCQ-DyMw</td>\n",
       "      <td>QKoP7XabOXXWIkTwvYyCiA</td>\n",
       "      <td>xGUAa3xa8KsmbolC3XboQg</td>\n",
       "      <td>5.0</td>\n",
       "      <td>0</td>\n",
       "      <td>0</td>\n",
       "      <td>0</td>\n",
       "      <td>Xtreme Tacos has become one of my favorite pla...</td>\n",
       "      <td>2017-10-02 16:29:35</td>\n",
       "      <td>Xtreme Tacos</td>\n",
       "      <td>...</td>\n",
       "      <td>Tampa</td>\n",
       "      <td>FL</td>\n",
       "      <td>33604.0</td>\n",
       "      <td>28.025477</td>\n",
       "      <td>-82.457399</td>\n",
       "      <td>4.5</td>\n",
       "      <td>193</td>\n",
       "      <td>0</td>\n",
       "      <td>Mexican, Tacos, Food, Restaurants, Food Trucks...</td>\n",
       "      <td>{'Monday': '0:0-0:0', 'Tuesday': '16:0-23:0', ...</td>\n",
       "    </tr>\n",
       "    <tr>\n",
       "      <th>4</th>\n",
       "      <td>rsmwGEzqhbz49kUP62oT-w</td>\n",
       "      <td>xHISiVzIR4Bb1YP_SqvRkg</td>\n",
       "      <td>KP5OncF2jhT7_J1phHPPww</td>\n",
       "      <td>3.0</td>\n",
       "      <td>3</td>\n",
       "      <td>0</td>\n",
       "      <td>1</td>\n",
       "      <td>Visited last night with a group of six. Ambian...</td>\n",
       "      <td>2015-04-15 12:46:42</td>\n",
       "      <td>Besito Mexican Restaurant</td>\n",
       "      <td>...</td>\n",
       "      <td>Tampa</td>\n",
       "      <td>FL</td>\n",
       "      <td>33609.0</td>\n",
       "      <td>27.946250</td>\n",
       "      <td>-82.526568</td>\n",
       "      <td>4.0</td>\n",
       "      <td>1092</td>\n",
       "      <td>1</td>\n",
       "      <td>Mexican, Restaurants, Salad, Food, Bars, Night...</td>\n",
       "      <td>{'Monday': '11:30-22:0', 'Tuesday': '11:30-22:...</td>\n",
       "    </tr>\n",
       "  </tbody>\n",
       "</table>\n",
       "<p>5 rows × 21 columns</p>\n",
       "</div>"
      ],
      "text/plain": [
       "                review_id                 user_id             business_id  \\\n",
       "0  cCs7yPSyk8NdA-Ufoz_7hw  FodM8aoGMQO2zsQCQxBTYQ  v5ktgWMAARaczTMh2rAJKg   \n",
       "1  3lwAyxwk0zxKI8JkINtXXQ  BlJg3Lj8wRBLs71LmAsjEQ  3yI-7C8JzbG-ZaSqAGHMAQ   \n",
       "2  Uz94ISY4REBG0Yeuoszcgg  DrD4gyOQ3iOXWZUej153Ng  FSTmzo0beEVMRMSArcp4fg   \n",
       "3  Naht5FrBGZDFGjwCQ-DyMw  QKoP7XabOXXWIkTwvYyCiA  xGUAa3xa8KsmbolC3XboQg   \n",
       "4  rsmwGEzqhbz49kUP62oT-w  xHISiVzIR4Bb1YP_SqvRkg  KP5OncF2jhT7_J1phHPPww   \n",
       "\n",
       "   stars_x  useful  funny  cool  \\\n",
       "0      2.0       0      0     0   \n",
       "1      4.0       1      0     0   \n",
       "2      2.0       0      0     0   \n",
       "3      5.0       0      0     0   \n",
       "4      3.0       3      0     1   \n",
       "\n",
       "                                                text                 date  \\\n",
       "0  The service here has gone down. We used to go ...  2017-12-27 02:57:57   \n",
       "1  What a hidden gem of a restaurant.  While ever...  2012-07-16 19:54:00   \n",
       "2  First visit tonight. Nice, clean place. Reason...  2015-11-19 00:30:41   \n",
       "3  Xtreme Tacos has become one of my favorite pla...  2017-10-02 16:29:35   \n",
       "4  Visited last night with a group of six. Ambian...  2015-04-15 12:46:42   \n",
       "\n",
       "                          name  ...   city state postal_code   latitude  \\\n",
       "0  San Jose Mexican Restaurant  ...   Lutz    FL     33558.0  28.189335   \n",
       "1                      TacoSon  ...  Tampa    FL     33617.0  28.017024   \n",
       "2     Lime Fresh Mexican Grill  ...  Tampa    FL     33607.0  27.959014   \n",
       "3                 Xtreme Tacos  ...  Tampa    FL     33604.0  28.025477   \n",
       "4    Besito Mexican Restaurant  ...  Tampa    FL     33609.0  27.946250   \n",
       "\n",
       "   longitude  stars_y  review_count  is_open  \\\n",
       "0 -82.541048      3.0           155        1   \n",
       "1 -82.393013      4.5           453        1   \n",
       "2 -82.524408      3.0           106        0   \n",
       "3 -82.457399      4.5           193        0   \n",
       "4 -82.526568      4.0          1092        1   \n",
       "\n",
       "                                          categories  \\\n",
       "0                        Restaurants, Mexican, Salad   \n",
       "1                               Restaurants, Mexican   \n",
       "2                               Mexican, Restaurants   \n",
       "3  Mexican, Tacos, Food, Restaurants, Food Trucks...   \n",
       "4  Mexican, Restaurants, Salad, Food, Bars, Night...   \n",
       "\n",
       "                                               hours  \n",
       "0  {'Monday': '11:0-21:30', 'Tuesday': '11:0-21:3...  \n",
       "1  {'Monday': '7:0-21:0', 'Tuesday': '7:0-21:0', ...  \n",
       "2  {'Monday': '11:0-22:0', 'Tuesday': '11:0-22:0'...  \n",
       "3  {'Monday': '0:0-0:0', 'Tuesday': '16:0-23:0', ...  \n",
       "4  {'Monday': '11:30-22:0', 'Tuesday': '11:30-22:...  \n",
       "\n",
       "[5 rows x 21 columns]"
      ]
     },
     "execution_count": 18,
     "metadata": {},
     "output_type": "execute_result"
    }
   ],
   "source": [
    "df = pd.read_csv(\"data/cleaned_data.csv\")\n",
    "df.head(5)"
   ]
  },
  {
   "cell_type": "code",
   "execution_count": 19,
   "metadata": {},
   "outputs": [
    {
     "name": "stdout",
     "output_type": "stream",
     "text": [
      "['review_id', 'user_id', 'business_id', 'stars_x', 'useful', 'funny', 'cool', 'text', 'date', 'name', 'address', 'city', 'state', 'postal_code', 'latitude', 'longitude', 'stars_y', 'review_count', 'is_open', 'categories', 'hours']\n",
      "34512\n"
     ]
    }
   ],
   "source": [
    "print(df.columns.tolist())\n",
    "print(len(df))"
   ]
  },
  {
   "attachments": {},
   "cell_type": "markdown",
   "metadata": {},
   "source": [
    "## Drop the 'business star' column"
   ]
  },
  {
   "cell_type": "code",
   "execution_count": 20,
   "metadata": {},
   "outputs": [],
   "source": [
    "df = pd.read_csv('data/cleaned_data.csv') \n",
    "\n",
    "df.drop('stars_x', axis=1, inplace=True)\n",
    "\n",
    "df.rename(columns={'stars_y': 'stars'}, inplace=True)\n",
    "\n",
    "df.to_csv('data/Tampa_MR.csv', index=False) "
   ]
  },
  {
   "attachments": {},
   "cell_type": "markdown",
   "metadata": {},
   "source": [
    "## Data final review"
   ]
  },
  {
   "cell_type": "code",
   "execution_count": 22,
   "metadata": {},
   "outputs": [
    {
     "name": "stdout",
     "output_type": "stream",
     "text": [
      "<class 'pandas.core.frame.DataFrame'>\n",
      "RangeIndex: 34512 entries, 0 to 34511\n",
      "Data columns (total 20 columns):\n",
      " #   Column        Non-Null Count  Dtype  \n",
      "---  ------        --------------  -----  \n",
      " 0   review_id     34512 non-null  object \n",
      " 1   user_id       34512 non-null  object \n",
      " 2   business_id   34512 non-null  object \n",
      " 3   useful        34512 non-null  int64  \n",
      " 4   funny         34512 non-null  int64  \n",
      " 5   cool          34512 non-null  int64  \n",
      " 6   text          34512 non-null  object \n",
      " 7   date          34512 non-null  object \n",
      " 8   name          34512 non-null  object \n",
      " 9   address       34476 non-null  object \n",
      " 10  city          34512 non-null  object \n",
      " 11  state         34512 non-null  object \n",
      " 12  postal_code   34512 non-null  float64\n",
      " 13  latitude      34512 non-null  float64\n",
      " 14  longitude     34512 non-null  float64\n",
      " 15  stars         34512 non-null  float64\n",
      " 16  review_count  34512 non-null  int64  \n",
      " 17  is_open       34512 non-null  int64  \n",
      " 18  categories    34512 non-null  object \n",
      " 19  hours         33691 non-null  object \n",
      "dtypes: float64(4), int64(5), object(11)\n",
      "memory usage: 5.3+ MB\n",
      "None\n"
     ]
    }
   ],
   "source": [
    "ds = pd.read_csv('data/Tampa_MR.csv')\n",
    "ds.head(5)\n",
    "print(ds.info())"
   ]
  },
  {
   "cell_type": "code",
   "execution_count": 1,
   "metadata": {},
   "outputs": [
    {
     "name": "stdout",
     "output_type": "stream",
     "text": [
      "<class 'pandas.core.frame.DataFrame'>\n",
      "RangeIndex: 12035 entries, 0 to 12034\n",
      "Data columns (total 14 columns):\n",
      " #   Column        Non-Null Count  Dtype  \n",
      "---  ------        --------------  -----  \n",
      " 0   Unnamed: 0    12035 non-null  int64  \n",
      " 1   business_id   12035 non-null  object \n",
      " 2   name          12035 non-null  object \n",
      " 3   address       11616 non-null  object \n",
      " 4   city          12035 non-null  object \n",
      " 5   state         12035 non-null  object \n",
      " 6   postal_code   12032 non-null  float64\n",
      " 7   latitude      12035 non-null  float64\n",
      " 8   longitude     12035 non-null  float64\n",
      " 9   stars         12035 non-null  float64\n",
      " 10  review_count  12035 non-null  int64  \n",
      " 11  is_open       12035 non-null  int64  \n",
      " 12  categories    12026 non-null  object \n",
      " 13  closed        2799 non-null   object \n",
      "dtypes: float64(4), int64(3), object(7)\n",
      "memory usage: 1.3+ MB\n",
      "None\n"
     ]
    }
   ],
   "source": [
    "import pandas as pd\n",
    "df = pd.read_csv(\"data/hill_business.csv\")\n",
    "print(df.info())"
   ]
  },
  {
   "cell_type": "code",
   "execution_count": 4,
   "metadata": {},
   "outputs": [
    {
     "data": {
      "text/plain": [
       "['review_id',\n",
       " 'user_id',\n",
       " 'business_id',\n",
       " 'stars_x',\n",
       " 'useful',\n",
       " 'funny',\n",
       " 'cool',\n",
       " 'text',\n",
       " 'date',\n",
       " 'name',\n",
       " 'address',\n",
       " 'city',\n",
       " 'state',\n",
       " 'postal_code',\n",
       " 'latitude',\n",
       " 'longitude',\n",
       " 'stars_y',\n",
       " 'review_count',\n",
       " 'is_open',\n",
       " 'categories',\n",
       " 'hours']"
      ]
     },
     "execution_count": 4,
     "metadata": {},
     "output_type": "execute_result"
    }
   ],
   "source": [
    "import pandas as pd\n",
    "\n",
    "df = pd.read_csv(\"data/Tampa_mexican_restaurants.csv\")\n",
    "\n",
    "df.columns.tolist()"
   ]
  },
  {
   "cell_type": "code",
   "execution_count": null,
   "metadata": {},
   "outputs": [],
   "source": []
  }
 ],
 "metadata": {
  "kernelspec": {
   "display_name": "base",
   "language": "python",
   "name": "python3"
  },
  "language_info": {
   "codemirror_mode": {
    "name": "ipython",
    "version": 3
   },
   "file_extension": ".py",
   "mimetype": "text/x-python",
   "name": "python",
   "nbconvert_exporter": "python",
   "pygments_lexer": "ipython3",
   "version": "3.8.8"
  },
  "orig_nbformat": 4
 },
 "nbformat": 4,
 "nbformat_minor": 2
}
