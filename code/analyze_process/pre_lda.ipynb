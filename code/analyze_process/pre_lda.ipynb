{
 "cells": [
  {
   "cell_type": "code",
   "execution_count": 2,
   "metadata": {},
   "outputs": [
    {
     "name": "stderr",
     "output_type": "stream",
     "text": [
      "[nltk_data] Downloading package stopwords to\n",
      "[nltk_data]     /Users/liziming/nltk_data...\n",
      "[nltk_data]   Package stopwords is already up-to-date!\n"
     ]
    }
   ],
   "source": [
    "import pandas as pd\n",
    "import re\n",
    "from bs4 import BeautifulSoup\n",
    "import spacy\n",
    "import nltk\n",
    "from nltk.corpus import stopwords\n",
    "\n",
    "df = pd.read_csv('data/Tampa_mexican_restaurants.csv')\n",
    "df = df.drop(columns=['state', 'latitude', 'longitude', 'address'])\n",
    "\n",
    "def remove_html_tags(text):\n",
    "    return BeautifulSoup(text, \"html.parser\").get_text()\n",
    "\n",
    "def remove_punctuation(text):\n",
    "    return re.sub(r'[^\\w\\s]', '', text)\n",
    "\n",
    "def remove_phone_numbers(text):\n",
    "    pattern = r'\\b\\d{3}[-.\\s]?\\d{3}[-.\\s]?\\d{4}\\b'\n",
    "    return re.sub(pattern, '', text)\n",
    "\n",
    "df['cleaned_text'] = df['text'].apply(remove_html_tags)\n",
    "df['cleaned_text'] = df['cleaned_text'].apply(remove_punctuation)\n",
    "df['cleaned_text'] = df['cleaned_text'].apply(remove_phone_numbers)\n",
    "df['cleaned_text'] = df['cleaned_text'].str.lower()\n",
    "\n",
    "nlp = spacy.load(\"en_core_web_sm\")\n",
    "nltk.download('stopwords')\n",
    "stop_words = set(stopwords.words('english'))\n",
    "\n",
    "def tokenize_and_filter(text):\n",
    "    doc = nlp(text)\n",
    "    tokens = [token.text for token in doc if token.text.isalpha() and len(token.text) > 1 and token.text not in stop_words]\n",
    "    return tokens\n",
    "\n",
    "df['tokens'] = df['cleaned_text'].apply(tokenize_and_filter)\n",
    "\n",
    "business_review_counts = df['business_id'].value_counts()\n",
    "business_ids_with_100plus_reviews = business_review_counts[business_review_counts > 100].index\n",
    "filtered_df = df[df['business_id'].isin(business_ids_with_100plus_reviews)]\n",
    "\n",
    "filtered_df.to_csv('data_for_LDA.csv', index=False)\n",
    "\n"
   ]
  },
  {
   "cell_type": "code",
   "execution_count": 3,
   "metadata": {},
   "outputs": [
    {
     "name": "stdout",
     "output_type": "stream",
     "text": [
      "<class 'pandas.core.frame.DataFrame'>\n",
      "RangeIndex: 27014 entries, 0 to 27013\n",
      "Data columns (total 19 columns):\n",
      " #   Column        Non-Null Count  Dtype  \n",
      "---  ------        --------------  -----  \n",
      " 0   review_id     27014 non-null  object \n",
      " 1   user_id       27014 non-null  object \n",
      " 2   business_id   27014 non-null  object \n",
      " 3   stars_x       27014 non-null  float64\n",
      " 4   useful        27014 non-null  int64  \n",
      " 5   funny         27014 non-null  int64  \n",
      " 6   cool          27014 non-null  int64  \n",
      " 7   text          27014 non-null  object \n",
      " 8   date          27014 non-null  object \n",
      " 9   name          27014 non-null  object \n",
      " 10  city          27014 non-null  object \n",
      " 11  postal_code   27014 non-null  float64\n",
      " 12  stars_y       27014 non-null  float64\n",
      " 13  review_count  27014 non-null  int64  \n",
      " 14  is_open       27014 non-null  int64  \n",
      " 15  categories    27014 non-null  object \n",
      " 16  hours         26629 non-null  object \n",
      " 17  cleaned_text  27014 non-null  object \n",
      " 18  tokens        27014 non-null  object \n",
      "dtypes: float64(3), int64(5), object(11)\n",
      "memory usage: 3.9+ MB\n"
     ]
    }
   ],
   "source": [
    "da = pd.read_csv('data_for_LDA.csv')\n",
    "da.info()"
   ]
  },
  {
   "cell_type": "code",
   "execution_count": 4,
   "metadata": {},
   "outputs": [
    {
     "name": "stdout",
     "output_type": "stream",
     "text": [
      "Topic #0: great food good service place mexican restaurant really back delicious\n",
      "Topic #1: food nt place like good get go location taco tacos\n",
      "Topic #2: tacos food taco place great good delicious best mexican fresh\n",
      "Topic #3: nt food us service order time back minutes would came\n",
      "Topic #4: nt ordered chips chicken salsa like good rice taco tacos\n",
      "\n"
     ]
    }
   ],
   "source": [
    "from sklearn.feature_extraction.text import CountVectorizer\n",
    "from sklearn.decomposition import LatentDirichletAllocation\n",
    "import ast\n",
    "\n",
    "\n",
    "da['tokens'] = da['tokens'].apply(lambda x: ast.literal_eval(x) if isinstance(x, str) else x)\n",
    "\n",
    "da['cleaned_text'] = da['tokens'].apply(lambda x: ' '.join(x))\n",
    "\n",
    "vectorizer = CountVectorizer()\n",
    "X = vectorizer.fit_transform(da['cleaned_text'])\n",
    "\n",
    "lda = LatentDirichletAllocation(n_components=5, random_state=0) \n",
    "lda.fit(X)\n",
    "\n",
    "def print_top_words(model, feature_names, n_top_words):\n",
    "    for topic_idx, topic in enumerate(model.components_):\n",
    "        message = \"Topic #%d: \" % topic_idx\n",
    "        message += \" \".join([feature_names[i]\n",
    "                             for i in topic.argsort()[:-n_top_words - 1:-1]])\n",
    "        print(message)\n",
    "    print()\n",
    "\n",
    "print_top_words(lda, vectorizer.get_feature_names(), 10)\n",
    "\n",
    "\n",
    "topic_distributions = lda.transform(X)\n",
    "da['topic'] = topic_distributions.argmax(axis=1)\n",
    "da.to_csv('data_with_topics.csv', index=False)\n"
   ]
  },
  {
   "cell_type": "code",
   "execution_count": 5,
   "metadata": {},
   "outputs": [
    {
     "name": "stdout",
     "output_type": "stream",
     "text": [
      "High-rate topics:\n",
      "Topic #0: food place great service good time restaurant just order mexican\n",
      "Topic #1: tacos taco great place good delicious fresh love food definitely\n",
      "Topic #2: tacos good food mexican salsa taco chicken chips like place\n",
      "\n",
      "Low-rate topics:\n",
      "Topic #0: food order time service just minutes like ordered asked got\n",
      "Topic #1: food location chipotle place great just love ive staff service\n",
      "Topic #2: food good mexican place tacos great taco salsa like service\n",
      "\n"
     ]
    }
   ],
   "source": [
    "from sklearn.feature_extraction.text import CountVectorizer\n",
    "from sklearn.decomposition import LatentDirichletAllocation\n",
    "import pandas as pd\n",
    "\n",
    "da = pd.read_csv(\"data_for_lda.csv\")\n",
    "\n",
    "\n",
    "high_rating = da[da['stars_y'] >= 4] \n",
    "low_rating = da[da['stars_y'] <= 3]   \n",
    "\n",
    "def create_dtm(dataframe):\n",
    "    vectorizer = CountVectorizer(max_df=0.95, min_df=2, stop_words='english')\n",
    "    dtm = vectorizer.fit_transform(dataframe['cleaned_text'])\n",
    "    return dtm, vectorizer\n",
    "\n",
    "\n",
    "def train_lda(dtm, n_topics=3):\n",
    "    lda = LatentDirichletAllocation(n_components=n_topics, random_state=0)\n",
    "    lda.fit(dtm)\n",
    "    return lda\n",
    "\n",
    "def print_top_words(model, feature_names, n_top_words):\n",
    "    for topic_idx, topic in enumerate(model.components_):\n",
    "        message = \"Topic #%d: \" % topic_idx\n",
    "        message += \" \".join([feature_names[i]\n",
    "                             for i in topic.argsort()[:-n_top_words - 1:-1]])\n",
    "        print(message)\n",
    "    print()\n",
    "\n",
    "high_dtm, high_vectorizer = create_dtm(high_rating)\n",
    "high_lda = train_lda(high_dtm, n_topics=3) \n",
    "print(\"High-rate topics:\")\n",
    "print_top_words(high_lda, high_vectorizer.get_feature_names(), n_top_words=10) \n",
    "\n",
    "\n",
    "low_dtm, low_vectorizer = create_dtm(low_rating)\n",
    "low_lda = train_lda(low_dtm, n_topics=3)  \n",
    "print(\"Low-rate topics:\")\n",
    "print_top_words(low_lda, low_vectorizer.get_feature_names(), n_top_words=10)  \n"
   ]
  },
  {
   "cell_type": "code",
   "execution_count": 6,
   "metadata": {},
   "outputs": [
    {
     "name": "stdout",
     "output_type": "stream",
     "text": [
      "sentiment score for high rate:\n",
      " high_topic\n",
      "0.0    0.697675\n",
      "1.0    0.880435\n",
      "2.0    0.745810\n",
      "Name: compound, dtype: float64\n",
      "sentiment score for low rate:\n",
      " low_topic\n",
      "0.0   -0.143757\n",
      "1.0    0.514104\n",
      "2.0    0.662211\n",
      "Name: compound, dtype: float64\n"
     ]
    }
   ],
   "source": [
    "from vaderSentiment.vaderSentiment import SentimentIntensityAnalyzer\n",
    "\n",
    "analyzer = SentimentIntensityAnalyzer()\n",
    "\n",
    "da['compound'] = [analyzer.polarity_scores(text)['compound'] for text in da['cleaned_text']]\n",
    "\n",
    "high_topic_results = high_lda.transform(high_dtm)  \n",
    "low_topic_results = low_lda.transform(low_dtm)   \n",
    "\n",
    "\n",
    "high_rate = da[da['stars_y'] >= 4].copy()  \n",
    "low_rate = da[da['stars_y'] <= 3].copy() \n",
    "\n",
    "high_rate['high_topic'] = high_lda.transform(high_dtm).argmax(axis=1)\n",
    "low_rate['low_topic'] = low_lda.transform(low_dtm).argmax(axis=1)\n",
    "\n",
    "da.loc[high_rate.index, 'high_topic'] = high_rate['high_topic']\n",
    "da.loc[low_rate.index, 'low_topic'] = low_rate['low_topic']\n",
    "\n",
    "high_topic_sentiment = da.loc[da['stars_y'] >= 4].groupby('high_topic')['compound'].mean()\n",
    "low_topic_sentiment = da.loc[da['stars_y'] <= 3].groupby('low_topic')['compound'].mean()\n",
    "\n",
    "print(\"sentiment score for high rate:\\n\", high_topic_sentiment)\n",
    "print(\"sentiment score for low rate:\\n\", low_topic_sentiment)\n"
   ]
  },
  {
   "cell_type": "code",
   "execution_count": null,
   "metadata": {},
   "outputs": [],
   "source": []
  }
 ],
 "metadata": {
  "kernelspec": {
   "display_name": "base",
   "language": "python",
   "name": "python3"
  },
  "language_info": {
   "codemirror_mode": {
    "name": "ipython",
    "version": 3
   },
   "file_extension": ".py",
   "mimetype": "text/x-python",
   "name": "python",
   "nbconvert_exporter": "python",
   "pygments_lexer": "ipython3",
   "version": "3.8.8"
  },
  "orig_nbformat": 4
 },
 "nbformat": 4,
 "nbformat_minor": 2
}
