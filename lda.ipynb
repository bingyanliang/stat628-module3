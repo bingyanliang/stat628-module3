{
 "cells": [
  {
   "cell_type": "code",
   "execution_count": 1,
   "metadata": {},
   "outputs": [
    {
     "name": "stdout",
     "output_type": "stream",
     "text": [
      "High-rate topics:\n",
      "Topic #0: food place great service good time restaurant just order mexican\n",
      "Topic #1: tacos taco great place good delicious fresh love food definitely\n",
      "Topic #2: tacos good food mexican salsa taco chicken chips like place\n",
      "\n",
      "Low-rate topics:\n",
      "Topic #0: food order time service just minutes like ordered asked got\n",
      "Topic #1: food location chipotle place great just love ive staff service\n",
      "Topic #2: food good mexican place tacos great taco salsa like service\n",
      "\n"
     ]
    }
   ],
   "source": [
    "from sklearn.feature_extraction.text import CountVectorizer\n",
    "from sklearn.decomposition import LatentDirichletAllocation\n",
    "import pandas as pd\n",
    "\n",
    "da = pd.read_csv(\"data_for_lda.csv\")\n",
    "\n",
    "\n",
    "high_rating = da[da['stars_y'] >= 4] \n",
    "low_rating = da[da['stars_y'] <= 3]   \n",
    "\n",
    "def create_dtm(dataframe):\n",
    "    vectorizer = CountVectorizer(max_df=0.95, min_df=2, stop_words='english')\n",
    "    dtm = vectorizer.fit_transform(dataframe['cleaned_text'])\n",
    "    return dtm, vectorizer\n",
    "\n",
    "\n",
    "def train_lda(dtm, n_topics=3):\n",
    "    lda = LatentDirichletAllocation(n_components=n_topics, random_state=0)\n",
    "    lda.fit(dtm)\n",
    "    return lda\n",
    "\n",
    "def print_top_words(model, feature_names, n_top_words):\n",
    "    for topic_idx, topic in enumerate(model.components_):\n",
    "        message = \"Topic #%d: \" % topic_idx\n",
    "        message += \" \".join([feature_names[i]\n",
    "                             for i in topic.argsort()[:-n_top_words - 1:-1]])\n",
    "        print(message)\n",
    "    print()\n",
    "\n",
    "high_dtm, high_vectorizer = create_dtm(high_rating)\n",
    "high_lda = train_lda(high_dtm, n_topics=3) \n",
    "print(\"High-rate topics:\")\n",
    "print_top_words(high_lda, high_vectorizer.get_feature_names(), n_top_words=10) \n",
    "\n",
    "\n",
    "low_dtm, low_vectorizer = create_dtm(low_rating)\n",
    "low_lda = train_lda(low_dtm, n_topics=3)  \n",
    "print(\"Low-rate topics:\")\n",
    "print_top_words(low_lda, low_vectorizer.get_feature_names(), n_top_words=10)"
   ]
  },
  {
   "cell_type": "code",
   "execution_count": 2,
   "metadata": {},
   "outputs": [
    {
     "name": "stdout",
     "output_type": "stream",
     "text": [
      "sentiment score for high rate:\n",
      " high_topic\n",
      "0.0    0.697675\n",
      "1.0    0.880435\n",
      "2.0    0.745810\n",
      "Name: compound, dtype: float64\n",
      "sentiment score for low rate:\n",
      " low_topic\n",
      "0.0   -0.143757\n",
      "1.0    0.514104\n",
      "2.0    0.662211\n",
      "Name: compound, dtype: float64\n"
     ]
    }
   ],
   "source": [
    "from vaderSentiment.vaderSentiment import SentimentIntensityAnalyzer\n",
    "\n",
    "analyzer = SentimentIntensityAnalyzer()\n",
    "\n",
    "da['compound'] = [analyzer.polarity_scores(text)['compound'] for text in da['cleaned_text']]\n",
    "\n",
    "high_topic_results = high_lda.transform(high_dtm)  \n",
    "low_topic_results = low_lda.transform(low_dtm)   \n",
    "\n",
    "\n",
    "high_rate = da[da['stars_y'] >= 4].copy()  \n",
    "low_rate = da[da['stars_y'] <= 3].copy() \n",
    "\n",
    "high_rate['high_topic'] = high_lda.transform(high_dtm).argmax(axis=1)\n",
    "low_rate['low_topic'] = low_lda.transform(low_dtm).argmax(axis=1)\n",
    "\n",
    "da.loc[high_rate.index, 'high_topic'] = high_rate['high_topic']\n",
    "da.loc[low_rate.index, 'low_topic'] = low_rate['low_topic']\n",
    "\n",
    "high_topic_sentiment = da.loc[da['stars_y'] >= 4].groupby('high_topic')['compound'].mean()\n",
    "low_topic_sentiment = da.loc[da['stars_y'] <= 3].groupby('low_topic')['compound'].mean()\n",
    "\n",
    "print(\"sentiment score for high rate:\\n\", high_topic_sentiment)\n",
    "print(\"sentiment score for low rate:\\n\", low_topic_sentiment)\n"
   ]
  },
  {
   "cell_type": "code",
   "execution_count": null,
   "metadata": {},
   "outputs": [],
   "source": []
  }
 ],
 "metadata": {
  "kernelspec": {
   "display_name": "base",
   "language": "python",
   "name": "python3"
  },
  "language_info": {
   "codemirror_mode": {
    "name": "ipython",
    "version": 3
   },
   "file_extension": ".py",
   "mimetype": "text/x-python",
   "name": "python",
   "nbconvert_exporter": "python",
   "pygments_lexer": "ipython3",
   "version": "3.8.8"
  },
  "orig_nbformat": 4
 },
 "nbformat": 4,
 "nbformat_minor": 2
}
